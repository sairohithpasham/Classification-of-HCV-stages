{
 "cells": [
  {
   "cell_type": "markdown",
   "metadata": {},
   "source": [
    "# Problem Statement:\n",
    "### To classify which stage the HCV affected Patient is in out of 4 stages - \n",
    "### 1(F1:Portal Fibrosis), 2(F2:Few Septa), 3(F3:Many Septa), 4(F4:Cirrhosis)"
   ]
  },
  {
   "cell_type": "markdown",
   "metadata": {},
   "source": [
    "### Importing the libraries"
   ]
  },
  {
   "cell_type": "code",
   "execution_count": 1,
   "metadata": {},
   "outputs": [],
   "source": [
    "import pandas as pd\n",
    "import matplotlib.pyplot as plt\n",
    "import seaborn as sns\n",
    "import numpy as np"
   ]
  },
  {
   "cell_type": "markdown",
   "metadata": {},
   "source": [
    "### Reading the dataset"
   ]
  },
  {
   "cell_type": "code",
   "execution_count": 2,
   "metadata": {},
   "outputs": [
    {
     "data": {
      "text/html": [
       "<div>\n",
       "<style scoped>\n",
       "    .dataframe tbody tr th:only-of-type {\n",
       "        vertical-align: middle;\n",
       "    }\n",
       "\n",
       "    .dataframe tbody tr th {\n",
       "        vertical-align: top;\n",
       "    }\n",
       "\n",
       "    .dataframe thead th {\n",
       "        text-align: right;\n",
       "    }\n",
       "</style>\n",
       "<table border=\"1\" class=\"dataframe\">\n",
       "  <thead>\n",
       "    <tr style=\"text-align: right;\">\n",
       "      <th></th>\n",
       "      <th>Age</th>\n",
       "      <th>Gender</th>\n",
       "      <th>BMI</th>\n",
       "      <th>Fever</th>\n",
       "      <th>Nausea/Vomting</th>\n",
       "      <th>Headache</th>\n",
       "      <th>Diarrhea</th>\n",
       "      <th>Fatigue &amp; generalized bone ache</th>\n",
       "      <th>Jaundice</th>\n",
       "      <th>Epigastric pain</th>\n",
       "      <th>...</th>\n",
       "      <th>ALT 36</th>\n",
       "      <th>ALT 48</th>\n",
       "      <th>ALT after 24 w</th>\n",
       "      <th>RNA Base</th>\n",
       "      <th>RNA 4</th>\n",
       "      <th>RNA 12</th>\n",
       "      <th>RNA EOT</th>\n",
       "      <th>RNA EF</th>\n",
       "      <th>Baseline histological Grading</th>\n",
       "      <th>Baselinehistological staging</th>\n",
       "    </tr>\n",
       "  </thead>\n",
       "  <tbody>\n",
       "    <tr>\n",
       "      <th>0</th>\n",
       "      <td>56</td>\n",
       "      <td>1</td>\n",
       "      <td>35</td>\n",
       "      <td>2</td>\n",
       "      <td>1</td>\n",
       "      <td>1</td>\n",
       "      <td>1</td>\n",
       "      <td>2</td>\n",
       "      <td>2</td>\n",
       "      <td>2</td>\n",
       "      <td>...</td>\n",
       "      <td>5</td>\n",
       "      <td>5</td>\n",
       "      <td>5</td>\n",
       "      <td>655330</td>\n",
       "      <td>634536</td>\n",
       "      <td>288194</td>\n",
       "      <td>5</td>\n",
       "      <td>5</td>\n",
       "      <td>13</td>\n",
       "      <td>2</td>\n",
       "    </tr>\n",
       "    <tr>\n",
       "      <th>1</th>\n",
       "      <td>46</td>\n",
       "      <td>1</td>\n",
       "      <td>29</td>\n",
       "      <td>1</td>\n",
       "      <td>2</td>\n",
       "      <td>2</td>\n",
       "      <td>1</td>\n",
       "      <td>2</td>\n",
       "      <td>2</td>\n",
       "      <td>1</td>\n",
       "      <td>...</td>\n",
       "      <td>57</td>\n",
       "      <td>123</td>\n",
       "      <td>44</td>\n",
       "      <td>40620</td>\n",
       "      <td>538635</td>\n",
       "      <td>637056</td>\n",
       "      <td>336804</td>\n",
       "      <td>31085</td>\n",
       "      <td>4</td>\n",
       "      <td>2</td>\n",
       "    </tr>\n",
       "    <tr>\n",
       "      <th>2</th>\n",
       "      <td>57</td>\n",
       "      <td>1</td>\n",
       "      <td>33</td>\n",
       "      <td>2</td>\n",
       "      <td>2</td>\n",
       "      <td>2</td>\n",
       "      <td>2</td>\n",
       "      <td>1</td>\n",
       "      <td>1</td>\n",
       "      <td>1</td>\n",
       "      <td>...</td>\n",
       "      <td>5</td>\n",
       "      <td>5</td>\n",
       "      <td>5</td>\n",
       "      <td>571148</td>\n",
       "      <td>661346</td>\n",
       "      <td>5</td>\n",
       "      <td>735945</td>\n",
       "      <td>558829</td>\n",
       "      <td>4</td>\n",
       "      <td>4</td>\n",
       "    </tr>\n",
       "    <tr>\n",
       "      <th>3</th>\n",
       "      <td>49</td>\n",
       "      <td>2</td>\n",
       "      <td>33</td>\n",
       "      <td>1</td>\n",
       "      <td>2</td>\n",
       "      <td>1</td>\n",
       "      <td>2</td>\n",
       "      <td>1</td>\n",
       "      <td>2</td>\n",
       "      <td>1</td>\n",
       "      <td>...</td>\n",
       "      <td>48</td>\n",
       "      <td>77</td>\n",
       "      <td>33</td>\n",
       "      <td>1041941</td>\n",
       "      <td>449939</td>\n",
       "      <td>585688</td>\n",
       "      <td>744463</td>\n",
       "      <td>582301</td>\n",
       "      <td>10</td>\n",
       "      <td>3</td>\n",
       "    </tr>\n",
       "    <tr>\n",
       "      <th>4</th>\n",
       "      <td>59</td>\n",
       "      <td>1</td>\n",
       "      <td>32</td>\n",
       "      <td>1</td>\n",
       "      <td>1</td>\n",
       "      <td>2</td>\n",
       "      <td>1</td>\n",
       "      <td>2</td>\n",
       "      <td>2</td>\n",
       "      <td>2</td>\n",
       "      <td>...</td>\n",
       "      <td>94</td>\n",
       "      <td>90</td>\n",
       "      <td>30</td>\n",
       "      <td>660410</td>\n",
       "      <td>738756</td>\n",
       "      <td>3731527</td>\n",
       "      <td>338946</td>\n",
       "      <td>242861</td>\n",
       "      <td>11</td>\n",
       "      <td>1</td>\n",
       "    </tr>\n",
       "    <tr>\n",
       "      <th>...</th>\n",
       "      <td>...</td>\n",
       "      <td>...</td>\n",
       "      <td>...</td>\n",
       "      <td>...</td>\n",
       "      <td>...</td>\n",
       "      <td>...</td>\n",
       "      <td>...</td>\n",
       "      <td>...</td>\n",
       "      <td>...</td>\n",
       "      <td>...</td>\n",
       "      <td>...</td>\n",
       "      <td>...</td>\n",
       "      <td>...</td>\n",
       "      <td>...</td>\n",
       "      <td>...</td>\n",
       "      <td>...</td>\n",
       "      <td>...</td>\n",
       "      <td>...</td>\n",
       "      <td>...</td>\n",
       "      <td>...</td>\n",
       "      <td>...</td>\n",
       "    </tr>\n",
       "    <tr>\n",
       "      <th>1380</th>\n",
       "      <td>44</td>\n",
       "      <td>1</td>\n",
       "      <td>29</td>\n",
       "      <td>1</td>\n",
       "      <td>2</td>\n",
       "      <td>2</td>\n",
       "      <td>2</td>\n",
       "      <td>1</td>\n",
       "      <td>1</td>\n",
       "      <td>1</td>\n",
       "      <td>...</td>\n",
       "      <td>63</td>\n",
       "      <td>44</td>\n",
       "      <td>45</td>\n",
       "      <td>387795</td>\n",
       "      <td>55938</td>\n",
       "      <td>5</td>\n",
       "      <td>5</td>\n",
       "      <td>5</td>\n",
       "      <td>15</td>\n",
       "      <td>4</td>\n",
       "    </tr>\n",
       "    <tr>\n",
       "      <th>1381</th>\n",
       "      <td>55</td>\n",
       "      <td>1</td>\n",
       "      <td>34</td>\n",
       "      <td>1</td>\n",
       "      <td>2</td>\n",
       "      <td>2</td>\n",
       "      <td>1</td>\n",
       "      <td>1</td>\n",
       "      <td>1</td>\n",
       "      <td>1</td>\n",
       "      <td>...</td>\n",
       "      <td>97</td>\n",
       "      <td>64</td>\n",
       "      <td>41</td>\n",
       "      <td>481378</td>\n",
       "      <td>152961</td>\n",
       "      <td>393339</td>\n",
       "      <td>73574</td>\n",
       "      <td>236273</td>\n",
       "      <td>10</td>\n",
       "      <td>2</td>\n",
       "    </tr>\n",
       "    <tr>\n",
       "      <th>1382</th>\n",
       "      <td>42</td>\n",
       "      <td>1</td>\n",
       "      <td>26</td>\n",
       "      <td>2</td>\n",
       "      <td>2</td>\n",
       "      <td>1</td>\n",
       "      <td>1</td>\n",
       "      <td>1</td>\n",
       "      <td>2</td>\n",
       "      <td>1</td>\n",
       "      <td>...</td>\n",
       "      <td>87</td>\n",
       "      <td>39</td>\n",
       "      <td>24</td>\n",
       "      <td>612664</td>\n",
       "      <td>572756</td>\n",
       "      <td>806109</td>\n",
       "      <td>343719</td>\n",
       "      <td>160457</td>\n",
       "      <td>6</td>\n",
       "      <td>2</td>\n",
       "    </tr>\n",
       "    <tr>\n",
       "      <th>1383</th>\n",
       "      <td>52</td>\n",
       "      <td>1</td>\n",
       "      <td>29</td>\n",
       "      <td>2</td>\n",
       "      <td>1</td>\n",
       "      <td>1</td>\n",
       "      <td>2</td>\n",
       "      <td>2</td>\n",
       "      <td>2</td>\n",
       "      <td>1</td>\n",
       "      <td>...</td>\n",
       "      <td>48</td>\n",
       "      <td>81</td>\n",
       "      <td>43</td>\n",
       "      <td>139872</td>\n",
       "      <td>76161</td>\n",
       "      <td>515730</td>\n",
       "      <td>2460</td>\n",
       "      <td>696074</td>\n",
       "      <td>15</td>\n",
       "      <td>3</td>\n",
       "    </tr>\n",
       "    <tr>\n",
       "      <th>1384</th>\n",
       "      <td>55</td>\n",
       "      <td>2</td>\n",
       "      <td>26</td>\n",
       "      <td>1</td>\n",
       "      <td>2</td>\n",
       "      <td>2</td>\n",
       "      <td>2</td>\n",
       "      <td>1</td>\n",
       "      <td>2</td>\n",
       "      <td>1</td>\n",
       "      <td>...</td>\n",
       "      <td>64</td>\n",
       "      <td>71</td>\n",
       "      <td>34</td>\n",
       "      <td>1190577</td>\n",
       "      <td>628730</td>\n",
       "      <td>5</td>\n",
       "      <td>5</td>\n",
       "      <td>5</td>\n",
       "      <td>13</td>\n",
       "      <td>3</td>\n",
       "    </tr>\n",
       "  </tbody>\n",
       "</table>\n",
       "<p>1385 rows × 29 columns</p>\n",
       "</div>"
      ],
      "text/plain": [
       "      Age   Gender  BMI  Fever  Nausea/Vomting  Headache   Diarrhea   \\\n",
       "0       56       1   35      2               1          1          1   \n",
       "1       46       1   29      1               2          2          1   \n",
       "2       57       1   33      2               2          2          2   \n",
       "3       49       2   33      1               2          1          2   \n",
       "4       59       1   32      1               1          2          1   \n",
       "...    ...     ...  ...    ...             ...        ...        ...   \n",
       "1380    44       1   29      1               2          2          2   \n",
       "1381    55       1   34      1               2          2          1   \n",
       "1382    42       1   26      2               2          1          1   \n",
       "1383    52       1   29      2               1          1          2   \n",
       "1384    55       2   26      1               2          2          2   \n",
       "\n",
       "      Fatigue & generalized bone ache   Jaundice   Epigastric pain   ...  \\\n",
       "0                                    2          2                 2  ...   \n",
       "1                                    2          2                 1  ...   \n",
       "2                                    1          1                 1  ...   \n",
       "3                                    1          2                 1  ...   \n",
       "4                                    2          2                 2  ...   \n",
       "...                                ...        ...               ...  ...   \n",
       "1380                                 1          1                 1  ...   \n",
       "1381                                 1          1                 1  ...   \n",
       "1382                                 1          2                 1  ...   \n",
       "1383                                 2          2                 1  ...   \n",
       "1384                                 1          2                 1  ...   \n",
       "\n",
       "      ALT 36  ALT 48  ALT after 24 w  RNA Base   RNA 4   RNA 12  RNA EOT  \\\n",
       "0          5       5               5    655330  634536   288194        5   \n",
       "1         57     123              44     40620  538635   637056   336804   \n",
       "2          5       5               5    571148  661346        5   735945   \n",
       "3         48      77              33   1041941  449939   585688   744463   \n",
       "4         94      90              30    660410  738756  3731527   338946   \n",
       "...      ...     ...             ...       ...     ...      ...      ...   \n",
       "1380      63      44              45    387795   55938        5        5   \n",
       "1381      97      64              41    481378  152961   393339    73574   \n",
       "1382      87      39              24    612664  572756   806109   343719   \n",
       "1383      48      81              43    139872   76161   515730     2460   \n",
       "1384      64      71              34   1190577  628730        5        5   \n",
       "\n",
       "      RNA EF  Baseline histological Grading  Baselinehistological staging  \n",
       "0          5                             13                             2  \n",
       "1      31085                              4                             2  \n",
       "2     558829                              4                             4  \n",
       "3     582301                             10                             3  \n",
       "4     242861                             11                             1  \n",
       "...      ...                            ...                           ...  \n",
       "1380       5                             15                             4  \n",
       "1381  236273                             10                             2  \n",
       "1382  160457                              6                             2  \n",
       "1383  696074                             15                             3  \n",
       "1384       5                             13                             3  \n",
       "\n",
       "[1385 rows x 29 columns]"
      ]
     },
     "execution_count": 2,
     "metadata": {},
     "output_type": "execute_result"
    }
   ],
   "source": [
    "df = pd.read_csv(\"dataset.csv\")\n",
    "df"
   ]
  },
  {
   "cell_type": "code",
   "execution_count": 3,
   "metadata": {},
   "outputs": [
    {
     "name": "stdout",
     "output_type": "stream",
     "text": [
      "(1385, 29)\n"
     ]
    }
   ],
   "source": [
    "print(df.shape)"
   ]
  },
  {
   "cell_type": "markdown",
   "metadata": {},
   "source": [
    "### so, we have 1385 rows and 29 attributes in our dataset."
   ]
  },
  {
   "cell_type": "markdown",
   "metadata": {},
   "source": [
    "## Now lets check if there's any missing data or duplicate data."
   ]
  },
  {
   "cell_type": "code",
   "execution_count": 4,
   "metadata": {},
   "outputs": [
    {
     "data": {
      "image/png": "[encoded data removed]",
      "text/plain": [
       "<Figure size 1800x720 with 2 Axes>"
      ]
     },
     "metadata": {
      "needs_background": "light"
     },
     "output_type": "display_data"
    }
   ],
   "source": [
    "import missingno as msno\n",
    "msno.matrix(df)\n",
    "plt.show()"
   ]
  },
  {
   "cell_type": "code",
   "execution_count": 5,
   "metadata": {},
   "outputs": [
    {
     "data": {
      "text/plain": [
       "Age                                 0\n",
       "Gender                              0\n",
       "BMI                                 0\n",
       "Fever                               0\n",
       "Nausea/Vomting                      0\n",
       "Headache                            0\n",
       "Diarrhea                            0\n",
       "Fatigue & generalized bone ache     0\n",
       "Jaundice                            0\n",
       "Epigastric pain                     0\n",
       "WBC                                 0\n",
       "RBC                                 0\n",
       "HGB                                 0\n",
       "Plat                                0\n",
       "AST 1                               0\n",
       "ALT 1                               0\n",
       "ALT4                                0\n",
       "ALT 12                              0\n",
       "ALT 24                              0\n",
       "ALT 36                              0\n",
       "ALT 48                              0\n",
       "ALT after 24 w                      0\n",
       "RNA Base                            0\n",
       "RNA 4                               0\n",
       "RNA 12                              0\n",
       "RNA EOT                             0\n",
       "RNA EF                              0\n",
       "Baseline histological Grading       0\n",
       "Baselinehistological staging        0\n",
       "dtype: int64"
      ]
     },
     "execution_count": 5,
     "metadata": {},
     "output_type": "execute_result"
    }
   ],
   "source": [
    " df.isnull().sum()"
   ]
  },
  {
   "cell_type": "code",
   "execution_count": 6,
   "metadata": {},
   "outputs": [
    {
     "data": {
      "text/plain": [
       "0"
      ]
     },
     "execution_count": 6,
     "metadata": {},
     "output_type": "execute_result"
    }
   ],
   "source": [
    "df.duplicated().sum()"
   ]
  },
  {
   "cell_type": "markdown",
   "metadata": {},
   "source": [
    "### Now that we dont have any null or missing values, we can move on to the next step"
   ]
  },
  {
   "cell_type": "code",
   "execution_count": 7,
   "metadata": {},
   "outputs": [
    {
     "data": {
      "text/plain": [
       "Age                                   int64\n",
       "Gender                                int64\n",
       "BMI                                   int64\n",
       "Fever                                 int64\n",
       "Nausea/Vomting                        int64\n",
       "Headache                              int64\n",
       "Diarrhea                              int64\n",
       "Fatigue & generalized bone ache       int64\n",
       "Jaundice                              int64\n",
       "Epigastric pain                       int64\n",
       "WBC                                   int64\n",
       "RBC                                 float64\n",
       "HGB                                   int64\n",
       "Plat                                float64\n",
       "AST 1                                 int64\n",
       "ALT 1                                 int64\n",
       "ALT4                                float64\n",
       "ALT 12                                int64\n",
       "ALT 24                                int64\n",
       "ALT 36                                int64\n",
       "ALT 48                                int64\n",
       "ALT after 24 w                        int64\n",
       "RNA Base                              int64\n",
       "RNA 4                                 int64\n",
       "RNA 12                                int64\n",
       "RNA EOT                               int64\n",
       "RNA EF                                int64\n",
       "Baseline histological Grading         int64\n",
       "Baselinehistological staging          int64\n",
       "dtype: object"
      ]
     },
     "execution_count": 7,
     "metadata": {},
     "output_type": "execute_result"
    }
   ],
   "source": [
    "df.dtypes"
   ]
  },
  {
   "cell_type": "markdown",
   "metadata": {},
   "source": [
    "### so, we have 26 integer attributes and 3 float attributes."
   ]
  },
  {
   "cell_type": "code",
   "execution_count": 8,
   "metadata": {},
   "outputs": [
    {
     "data": {
      "text/html": [
       "<div>\n",
       "<style scoped>\n",
       "    .dataframe tbody tr th:only-of-type {\n",
       "        vertical-align: middle;\n",
       "    }\n",
       "\n",
       "    .dataframe tbody tr th {\n",
       "        vertical-align: top;\n",
       "    }\n",
       "\n",
       "    .dataframe thead th {\n",
       "        text-align: right;\n",
       "    }\n",
       "</style>\n",
       "<table border=\"1\" class=\"dataframe\">\n",
       "  <thead>\n",
       "    <tr style=\"text-align: right;\">\n",
       "      <th></th>\n",
       "      <th>Age</th>\n",
       "      <th>Gender</th>\n",
       "      <th>BMI</th>\n",
       "      <th>Fever</th>\n",
       "      <th>Nausea/Vomting</th>\n",
       "      <th>Headache</th>\n",
       "      <th>Diarrhea</th>\n",
       "      <th>Fatigue &amp; generalized bone ache</th>\n",
       "      <th>Jaundice</th>\n",
       "      <th>Epigastric pain</th>\n",
       "      <th>...</th>\n",
       "      <th>ALT 36</th>\n",
       "      <th>ALT 48</th>\n",
       "      <th>ALT after 24 w</th>\n",
       "      <th>RNA Base</th>\n",
       "      <th>RNA 4</th>\n",
       "      <th>RNA 12</th>\n",
       "      <th>RNA EOT</th>\n",
       "      <th>RNA EF</th>\n",
       "      <th>Baseline histological Grading</th>\n",
       "      <th>Baselinehistological staging</th>\n",
       "    </tr>\n",
       "  </thead>\n",
       "  <tbody>\n",
       "    <tr>\n",
       "      <th>count</th>\n",
       "      <td>1385.000000</td>\n",
       "      <td>1385.000000</td>\n",
       "      <td>1385.000000</td>\n",
       "      <td>1385.000000</td>\n",
       "      <td>1385.000000</td>\n",
       "      <td>1385.000000</td>\n",
       "      <td>1385.000000</td>\n",
       "      <td>1385.000000</td>\n",
       "      <td>1385.000000</td>\n",
       "      <td>1385.000000</td>\n",
       "      <td>...</td>\n",
       "      <td>1385.000000</td>\n",
       "      <td>1385.000000</td>\n",
       "      <td>1385.000000</td>\n",
       "      <td>1.385000e+03</td>\n",
       "      <td>1.385000e+03</td>\n",
       "      <td>1.385000e+03</td>\n",
       "      <td>1385.000000</td>\n",
       "      <td>1385.000000</td>\n",
       "      <td>1385.000000</td>\n",
       "      <td>1385.000000</td>\n",
       "    </tr>\n",
       "    <tr>\n",
       "      <th>mean</th>\n",
       "      <td>46.319134</td>\n",
       "      <td>1.489531</td>\n",
       "      <td>28.608664</td>\n",
       "      <td>1.515523</td>\n",
       "      <td>1.502527</td>\n",
       "      <td>1.496029</td>\n",
       "      <td>1.502527</td>\n",
       "      <td>1.498917</td>\n",
       "      <td>1.501083</td>\n",
       "      <td>1.503971</td>\n",
       "      <td>...</td>\n",
       "      <td>83.117690</td>\n",
       "      <td>83.629603</td>\n",
       "      <td>33.438267</td>\n",
       "      <td>5.909512e+05</td>\n",
       "      <td>6.008956e+05</td>\n",
       "      <td>2.887536e+05</td>\n",
       "      <td>287660.336462</td>\n",
       "      <td>291378.290975</td>\n",
       "      <td>9.761733</td>\n",
       "      <td>2.536462</td>\n",
       "    </tr>\n",
       "    <tr>\n",
       "      <th>std</th>\n",
       "      <td>8.781506</td>\n",
       "      <td>0.500071</td>\n",
       "      <td>4.076215</td>\n",
       "      <td>0.499939</td>\n",
       "      <td>0.500174</td>\n",
       "      <td>0.500165</td>\n",
       "      <td>0.500174</td>\n",
       "      <td>0.500179</td>\n",
       "      <td>0.500179</td>\n",
       "      <td>0.500165</td>\n",
       "      <td>...</td>\n",
       "      <td>26.399031</td>\n",
       "      <td>26.223955</td>\n",
       "      <td>7.073569</td>\n",
       "      <td>3.539354e+05</td>\n",
       "      <td>3.623151e+05</td>\n",
       "      <td>2.853507e+05</td>\n",
       "      <td>264559.525070</td>\n",
       "      <td>267700.691713</td>\n",
       "      <td>4.023896</td>\n",
       "      <td>1.121392</td>\n",
       "    </tr>\n",
       "    <tr>\n",
       "      <th>min</th>\n",
       "      <td>32.000000</td>\n",
       "      <td>1.000000</td>\n",
       "      <td>22.000000</td>\n",
       "      <td>1.000000</td>\n",
       "      <td>1.000000</td>\n",
       "      <td>1.000000</td>\n",
       "      <td>1.000000</td>\n",
       "      <td>1.000000</td>\n",
       "      <td>1.000000</td>\n",
       "      <td>1.000000</td>\n",
       "      <td>...</td>\n",
       "      <td>5.000000</td>\n",
       "      <td>5.000000</td>\n",
       "      <td>5.000000</td>\n",
       "      <td>1.100000e+01</td>\n",
       "      <td>5.000000e+00</td>\n",
       "      <td>5.000000e+00</td>\n",
       "      <td>5.000000</td>\n",
       "      <td>5.000000</td>\n",
       "      <td>3.000000</td>\n",
       "      <td>1.000000</td>\n",
       "    </tr>\n",
       "    <tr>\n",
       "      <th>25%</th>\n",
       "      <td>39.000000</td>\n",
       "      <td>1.000000</td>\n",
       "      <td>25.000000</td>\n",
       "      <td>1.000000</td>\n",
       "      <td>1.000000</td>\n",
       "      <td>1.000000</td>\n",
       "      <td>1.000000</td>\n",
       "      <td>1.000000</td>\n",
       "      <td>1.000000</td>\n",
       "      <td>1.000000</td>\n",
       "      <td>...</td>\n",
       "      <td>61.000000</td>\n",
       "      <td>61.000000</td>\n",
       "      <td>28.000000</td>\n",
       "      <td>2.692530e+05</td>\n",
       "      <td>2.708930e+05</td>\n",
       "      <td>5.000000e+00</td>\n",
       "      <td>5.000000</td>\n",
       "      <td>5.000000</td>\n",
       "      <td>6.000000</td>\n",
       "      <td>2.000000</td>\n",
       "    </tr>\n",
       "    <tr>\n",
       "      <th>50%</th>\n",
       "      <td>46.000000</td>\n",
       "      <td>1.000000</td>\n",
       "      <td>29.000000</td>\n",
       "      <td>2.000000</td>\n",
       "      <td>2.000000</td>\n",
       "      <td>1.000000</td>\n",
       "      <td>2.000000</td>\n",
       "      <td>1.000000</td>\n",
       "      <td>2.000000</td>\n",
       "      <td>2.000000</td>\n",
       "      <td>...</td>\n",
       "      <td>84.000000</td>\n",
       "      <td>83.000000</td>\n",
       "      <td>34.000000</td>\n",
       "      <td>5.931030e+05</td>\n",
       "      <td>5.978690e+05</td>\n",
       "      <td>2.343590e+05</td>\n",
       "      <td>251376.000000</td>\n",
       "      <td>244049.000000</td>\n",
       "      <td>10.000000</td>\n",
       "      <td>3.000000</td>\n",
       "    </tr>\n",
       "    <tr>\n",
       "      <th>75%</th>\n",
       "      <td>54.000000</td>\n",
       "      <td>2.000000</td>\n",
       "      <td>32.000000</td>\n",
       "      <td>2.000000</td>\n",
       "      <td>2.000000</td>\n",
       "      <td>2.000000</td>\n",
       "      <td>2.000000</td>\n",
       "      <td>2.000000</td>\n",
       "      <td>2.000000</td>\n",
       "      <td>2.000000</td>\n",
       "      <td>...</td>\n",
       "      <td>106.000000</td>\n",
       "      <td>106.000000</td>\n",
       "      <td>40.000000</td>\n",
       "      <td>8.867910e+05</td>\n",
       "      <td>9.090930e+05</td>\n",
       "      <td>5.248190e+05</td>\n",
       "      <td>517806.000000</td>\n",
       "      <td>527864.000000</td>\n",
       "      <td>13.000000</td>\n",
       "      <td>4.000000</td>\n",
       "    </tr>\n",
       "    <tr>\n",
       "      <th>max</th>\n",
       "      <td>61.000000</td>\n",
       "      <td>2.000000</td>\n",
       "      <td>35.000000</td>\n",
       "      <td>2.000000</td>\n",
       "      <td>2.000000</td>\n",
       "      <td>2.000000</td>\n",
       "      <td>2.000000</td>\n",
       "      <td>2.000000</td>\n",
       "      <td>2.000000</td>\n",
       "      <td>2.000000</td>\n",
       "      <td>...</td>\n",
       "      <td>128.000000</td>\n",
       "      <td>128.000000</td>\n",
       "      <td>45.000000</td>\n",
       "      <td>1.201086e+06</td>\n",
       "      <td>1.201715e+06</td>\n",
       "      <td>3.731527e+06</td>\n",
       "      <td>808450.000000</td>\n",
       "      <td>810333.000000</td>\n",
       "      <td>16.000000</td>\n",
       "      <td>4.000000</td>\n",
       "    </tr>\n",
       "  </tbody>\n",
       "</table>\n",
       "<p>8 rows × 29 columns</p>\n",
       "</div>"
      ],
      "text/plain": [
       "              Age        Gender          BMI        Fever  Nausea/Vomting  \\\n",
       "count  1385.000000  1385.000000  1385.000000  1385.000000     1385.000000   \n",
       "mean     46.319134     1.489531    28.608664     1.515523        1.502527   \n",
       "std       8.781506     0.500071     4.076215     0.499939        0.500174   \n",
       "min      32.000000     1.000000    22.000000     1.000000        1.000000   \n",
       "25%      39.000000     1.000000    25.000000     1.000000        1.000000   \n",
       "50%      46.000000     1.000000    29.000000     2.000000        2.000000   \n",
       "75%      54.000000     2.000000    32.000000     2.000000        2.000000   \n",
       "max      61.000000     2.000000    35.000000     2.000000        2.000000   \n",
       "\n",
       "         Headache     Diarrhea   Fatigue & generalized bone ache   \\\n",
       "count  1385.000000  1385.000000                       1385.000000   \n",
       "mean      1.496029     1.502527                          1.498917   \n",
       "std       0.500165     0.500174                          0.500179   \n",
       "min       1.000000     1.000000                          1.000000   \n",
       "25%       1.000000     1.000000                          1.000000   \n",
       "50%       1.000000     2.000000                          1.000000   \n",
       "75%       2.000000     2.000000                          2.000000   \n",
       "max       2.000000     2.000000                          2.000000   \n",
       "\n",
       "         Jaundice   Epigastric pain   ...       ALT 36       ALT 48  \\\n",
       "count  1385.000000       1385.000000  ...  1385.000000  1385.000000   \n",
       "mean      1.501083          1.503971  ...    83.117690    83.629603   \n",
       "std       0.500179          0.500165  ...    26.399031    26.223955   \n",
       "min       1.000000          1.000000  ...     5.000000     5.000000   \n",
       "25%       1.000000          1.000000  ...    61.000000    61.000000   \n",
       "50%       2.000000          2.000000  ...    84.000000    83.000000   \n",
       "75%       2.000000          2.000000  ...   106.000000   106.000000   \n",
       "max       2.000000          2.000000  ...   128.000000   128.000000   \n",
       "\n",
       "       ALT after 24 w      RNA Base         RNA 4        RNA 12  \\\n",
       "count     1385.000000  1.385000e+03  1.385000e+03  1.385000e+03   \n",
       "mean        33.438267  5.909512e+05  6.008956e+05  2.887536e+05   \n",
       "std          7.073569  3.539354e+05  3.623151e+05  2.853507e+05   \n",
       "min          5.000000  1.100000e+01  5.000000e+00  5.000000e+00   \n",
       "25%         28.000000  2.692530e+05  2.708930e+05  5.000000e+00   \n",
       "50%         34.000000  5.931030e+05  5.978690e+05  2.343590e+05   \n",
       "75%         40.000000  8.867910e+05  9.090930e+05  5.248190e+05   \n",
       "max         45.000000  1.201086e+06  1.201715e+06  3.731527e+06   \n",
       "\n",
       "             RNA EOT         RNA EF  Baseline histological Grading  \\\n",
       "count    1385.000000    1385.000000                    1385.000000   \n",
       "mean   287660.336462  291378.290975                       9.761733   \n",
       "std    264559.525070  267700.691713                       4.023896   \n",
       "min         5.000000       5.000000                       3.000000   \n",
       "25%         5.000000       5.000000                       6.000000   \n",
       "50%    251376.000000  244049.000000                      10.000000   \n",
       "75%    517806.000000  527864.000000                      13.000000   \n",
       "max    808450.000000  810333.000000                      16.000000   \n",
       "\n",
       "       Baselinehistological staging  \n",
       "count                   1385.000000  \n",
       "mean                       2.536462  \n",
       "std                        1.121392  \n",
       "min                        1.000000  \n",
       "25%                        2.000000  \n",
       "50%                        3.000000  \n",
       "75%                        4.000000  \n",
       "max                        4.000000  \n",
       "\n",
       "[8 rows x 29 columns]"
      ]
     },
     "execution_count": 8,
     "metadata": {},
     "output_type": "execute_result"
    }
   ],
   "source": [
    "df.describe()"
   ]
  },
  {
   "cell_type": "markdown",
   "metadata": {},
   "source": [
    "### The above is the statistical analysis of each attribute. From this it is clear that we should scale the data since the algorithms are going to use euclidean distances between two data points in their computations."
   ]
  },
  {
   "cell_type": "code",
   "execution_count": 9,
   "metadata": {},
   "outputs": [
    {
     "data": {
      "image/png": "[encoded data removed]",
      "text/plain": [
       "<Figure size 432x288 with 1 Axes>"
      ]
     },
     "metadata": {
      "needs_background": "light"
     },
     "output_type": "display_data"
    }
   ],
   "source": [
    "sns.countplot(\"Baselinehistological staging\",data=df)\n",
    "plt.show()"
   ]
  },
  {
   "cell_type": "code",
   "execution_count": 10,
   "metadata": {},
   "outputs": [
    {
     "data": {
      "text/plain": [
       "4    362\n",
       "3    355\n",
       "1    336\n",
       "2    332\n",
       "Name: Baselinehistological staging, dtype: int64"
      ]
     },
     "execution_count": 10,
     "metadata": {},
     "output_type": "execute_result"
    }
   ],
   "source": [
    "df['Baselinehistological staging'].value_counts()"
   ]
  },
  {
   "cell_type": "markdown",
   "metadata": {},
   "source": [
    "### X= input and y= output"
   ]
  },
  {
   "cell_type": "code",
   "execution_count": 11,
   "metadata": {},
   "outputs": [],
   "source": [
    "X = df.drop(['Baselinehistological staging'],axis=1)\n",
    "y = df['Baselinehistological staging']"
   ]
  },
  {
   "cell_type": "markdown",
   "metadata": {},
   "source": [
    "### Spliting in to train and test"
   ]
  },
  {
   "cell_type": "code",
   "execution_count": 12,
   "metadata": {},
   "outputs": [],
   "source": [
    "from sklearn.model_selection import train_test_split\n",
    "X_train,X_test,y_train,y_test = train_test_split(X,y,test_size=0.20,random_state=18)"
   ]
  },
  {
   "cell_type": "code",
   "execution_count": 13,
   "metadata": {},
   "outputs": [
    {
     "name": "stdout",
     "output_type": "stream",
     "text": [
      "(1108, 28)\n",
      "(277, 28)\n",
      "(1108,)\n",
      "(277,)\n"
     ]
    }
   ],
   "source": [
    "print(X_train.shape)\n",
    "print(X_test.shape)\n",
    "print(y_train.shape)\n",
    "print(y_test.shape)"
   ]
  },
  {
   "cell_type": "markdown",
   "metadata": {},
   "source": [
    "### so, we have 1108 rows in train and 277 in test"
   ]
  },
  {
   "cell_type": "code",
   "execution_count": 14,
   "metadata": {},
   "outputs": [
    {
     "data": {
      "text/html": [
       "<div>\n",
       "<style scoped>\n",
       "    .dataframe tbody tr th:only-of-type {\n",
       "        vertical-align: middle;\n",
       "    }\n",
       "\n",
       "    .dataframe tbody tr th {\n",
       "        vertical-align: top;\n",
       "    }\n",
       "\n",
       "    .dataframe thead th {\n",
       "        text-align: right;\n",
       "    }\n",
       "</style>\n",
       "<table border=\"1\" class=\"dataframe\">\n",
       "  <thead>\n",
       "    <tr style=\"text-align: right;\">\n",
       "      <th></th>\n",
       "      <th>Age</th>\n",
       "      <th>Gender</th>\n",
       "      <th>BMI</th>\n",
       "      <th>Fever</th>\n",
       "      <th>Nausea/Vomting</th>\n",
       "      <th>Headache</th>\n",
       "      <th>Diarrhea</th>\n",
       "      <th>Fatigue &amp; generalized bone ache</th>\n",
       "      <th>Jaundice</th>\n",
       "      <th>Epigastric pain</th>\n",
       "      <th>...</th>\n",
       "      <th>ALT 24</th>\n",
       "      <th>ALT 36</th>\n",
       "      <th>ALT 48</th>\n",
       "      <th>ALT after 24 w</th>\n",
       "      <th>RNA Base</th>\n",
       "      <th>RNA 4</th>\n",
       "      <th>RNA 12</th>\n",
       "      <th>RNA EOT</th>\n",
       "      <th>RNA EF</th>\n",
       "      <th>Baseline histological Grading</th>\n",
       "    </tr>\n",
       "  </thead>\n",
       "  <tbody>\n",
       "    <tr>\n",
       "      <th>0</th>\n",
       "      <td>1.684015</td>\n",
       "      <td>-0.971524</td>\n",
       "      <td>-0.639654</td>\n",
       "      <td>-1.036777</td>\n",
       "      <td>0.992806</td>\n",
       "      <td>1.012716</td>\n",
       "      <td>-1.001807</td>\n",
       "      <td>0.980338</td>\n",
       "      <td>1.003617</td>\n",
       "      <td>-1.003617</td>\n",
       "      <td>...</td>\n",
       "      <td>0.472032</td>\n",
       "      <td>0.104950</td>\n",
       "      <td>0.666102</td>\n",
       "      <td>0.820904</td>\n",
       "      <td>-0.049597</td>\n",
       "      <td>-1.650019</td>\n",
       "      <td>0.953614</td>\n",
       "      <td>-0.187431</td>\n",
       "      <td>1.246328</td>\n",
       "      <td>0.318454</td>\n",
       "    </tr>\n",
       "    <tr>\n",
       "      <th>1</th>\n",
       "      <td>-0.832510</td>\n",
       "      <td>-0.971524</td>\n",
       "      <td>-1.126423</td>\n",
       "      <td>-1.036777</td>\n",
       "      <td>-1.007246</td>\n",
       "      <td>1.012716</td>\n",
       "      <td>0.998197</td>\n",
       "      <td>-1.020057</td>\n",
       "      <td>1.003617</td>\n",
       "      <td>-1.003617</td>\n",
       "      <td>...</td>\n",
       "      <td>-1.700830</td>\n",
       "      <td>-1.276191</td>\n",
       "      <td>0.513306</td>\n",
       "      <td>-1.208397</td>\n",
       "      <td>-0.659669</td>\n",
       "      <td>-0.821624</td>\n",
       "      <td>-1.009073</td>\n",
       "      <td>-1.088911</td>\n",
       "      <td>-1.098925</td>\n",
       "      <td>1.064432</td>\n",
       "    </tr>\n",
       "    <tr>\n",
       "      <th>2</th>\n",
       "      <td>-0.031797</td>\n",
       "      <td>1.029310</td>\n",
       "      <td>0.090500</td>\n",
       "      <td>0.964528</td>\n",
       "      <td>-1.007246</td>\n",
       "      <td>-0.987443</td>\n",
       "      <td>-1.001807</td>\n",
       "      <td>-1.020057</td>\n",
       "      <td>1.003617</td>\n",
       "      <td>0.996396</td>\n",
       "      <td>...</td>\n",
       "      <td>0.319551</td>\n",
       "      <td>-1.352921</td>\n",
       "      <td>0.360511</td>\n",
       "      <td>0.531004</td>\n",
       "      <td>0.024634</td>\n",
       "      <td>-0.489730</td>\n",
       "      <td>-1.009073</td>\n",
       "      <td>-1.088911</td>\n",
       "      <td>-1.098925</td>\n",
       "      <td>1.064432</td>\n",
       "    </tr>\n",
       "    <tr>\n",
       "      <th>3</th>\n",
       "      <td>0.196978</td>\n",
       "      <td>-0.971524</td>\n",
       "      <td>0.820655</td>\n",
       "      <td>0.964528</td>\n",
       "      <td>0.992806</td>\n",
       "      <td>1.012716</td>\n",
       "      <td>-1.001807</td>\n",
       "      <td>0.980338</td>\n",
       "      <td>-0.996396</td>\n",
       "      <td>-1.003617</td>\n",
       "      <td>...</td>\n",
       "      <td>-1.090904</td>\n",
       "      <td>0.373505</td>\n",
       "      <td>-1.358440</td>\n",
       "      <td>-1.643248</td>\n",
       "      <td>-1.504712</td>\n",
       "      <td>-0.534764</td>\n",
       "      <td>-1.009073</td>\n",
       "      <td>-1.088911</td>\n",
       "      <td>-1.098925</td>\n",
       "      <td>-0.427523</td>\n",
       "    </tr>\n",
       "    <tr>\n",
       "      <th>4</th>\n",
       "      <td>1.112078</td>\n",
       "      <td>-0.971524</td>\n",
       "      <td>0.577270</td>\n",
       "      <td>-1.036777</td>\n",
       "      <td>-1.007246</td>\n",
       "      <td>-0.987443</td>\n",
       "      <td>0.998197</td>\n",
       "      <td>-1.020057</td>\n",
       "      <td>-0.996396</td>\n",
       "      <td>0.996396</td>\n",
       "      <td>...</td>\n",
       "      <td>-0.252255</td>\n",
       "      <td>-0.969271</td>\n",
       "      <td>0.207715</td>\n",
       "      <td>0.965855</td>\n",
       "      <td>0.731384</td>\n",
       "      <td>1.539697</td>\n",
       "      <td>0.227650</td>\n",
       "      <td>1.538977</td>\n",
       "      <td>0.073047</td>\n",
       "      <td>-1.422160</td>\n",
       "    </tr>\n",
       "    <tr>\n",
       "      <th>...</th>\n",
       "      <td>...</td>\n",
       "      <td>...</td>\n",
       "      <td>...</td>\n",
       "      <td>...</td>\n",
       "      <td>...</td>\n",
       "      <td>...</td>\n",
       "      <td>...</td>\n",
       "      <td>...</td>\n",
       "      <td>...</td>\n",
       "      <td>...</td>\n",
       "      <td>...</td>\n",
       "      <td>...</td>\n",
       "      <td>...</td>\n",
       "      <td>...</td>\n",
       "      <td>...</td>\n",
       "      <td>...</td>\n",
       "      <td>...</td>\n",
       "      <td>...</td>\n",
       "      <td>...</td>\n",
       "      <td>...</td>\n",
       "      <td>...</td>\n",
       "    </tr>\n",
       "    <tr>\n",
       "      <th>272</th>\n",
       "      <td>0.768915</td>\n",
       "      <td>1.029310</td>\n",
       "      <td>0.577270</td>\n",
       "      <td>0.964528</td>\n",
       "      <td>-1.007246</td>\n",
       "      <td>-0.987443</td>\n",
       "      <td>0.998197</td>\n",
       "      <td>-1.020057</td>\n",
       "      <td>1.003617</td>\n",
       "      <td>0.996396</td>\n",
       "      <td>...</td>\n",
       "      <td>1.425042</td>\n",
       "      <td>0.833885</td>\n",
       "      <td>-0.136075</td>\n",
       "      <td>-0.048796</td>\n",
       "      <td>1.474394</td>\n",
       "      <td>0.018108</td>\n",
       "      <td>-0.110320</td>\n",
       "      <td>-0.963027</td>\n",
       "      <td>-0.442670</td>\n",
       "      <td>-1.670819</td>\n",
       "    </tr>\n",
       "    <tr>\n",
       "      <th>273</th>\n",
       "      <td>-1.061285</td>\n",
       "      <td>-0.971524</td>\n",
       "      <td>0.577270</td>\n",
       "      <td>-1.036777</td>\n",
       "      <td>0.992806</td>\n",
       "      <td>-0.987443</td>\n",
       "      <td>0.998197</td>\n",
       "      <td>0.980338</td>\n",
       "      <td>-0.996396</td>\n",
       "      <td>0.996396</td>\n",
       "      <td>...</td>\n",
       "      <td>-1.510228</td>\n",
       "      <td>0.833885</td>\n",
       "      <td>0.589704</td>\n",
       "      <td>0.820904</td>\n",
       "      <td>-0.463566</td>\n",
       "      <td>1.425486</td>\n",
       "      <td>0.379718</td>\n",
       "      <td>1.205534</td>\n",
       "      <td>-0.409321</td>\n",
       "      <td>-1.173501</td>\n",
       "    </tr>\n",
       "    <tr>\n",
       "      <th>274</th>\n",
       "      <td>0.425753</td>\n",
       "      <td>1.029310</td>\n",
       "      <td>0.577270</td>\n",
       "      <td>-1.036777</td>\n",
       "      <td>0.992806</td>\n",
       "      <td>-0.987443</td>\n",
       "      <td>0.998197</td>\n",
       "      <td>-1.020057</td>\n",
       "      <td>1.003617</td>\n",
       "      <td>0.996396</td>\n",
       "      <td>...</td>\n",
       "      <td>-0.290376</td>\n",
       "      <td>0.603695</td>\n",
       "      <td>0.666102</td>\n",
       "      <td>-0.048796</td>\n",
       "      <td>-1.221066</td>\n",
       "      <td>0.159548</td>\n",
       "      <td>-1.009073</td>\n",
       "      <td>-1.088911</td>\n",
       "      <td>-1.098925</td>\n",
       "      <td>-0.676182</td>\n",
       "    </tr>\n",
       "    <tr>\n",
       "      <th>275</th>\n",
       "      <td>-0.260572</td>\n",
       "      <td>1.029310</td>\n",
       "      <td>0.820655</td>\n",
       "      <td>0.964528</td>\n",
       "      <td>0.992806</td>\n",
       "      <td>-0.987443</td>\n",
       "      <td>0.998197</td>\n",
       "      <td>0.980338</td>\n",
       "      <td>-0.996396</td>\n",
       "      <td>-1.003617</td>\n",
       "      <td>...</td>\n",
       "      <td>0.128949</td>\n",
       "      <td>-1.544746</td>\n",
       "      <td>-1.511236</td>\n",
       "      <td>1.545655</td>\n",
       "      <td>-0.523786</td>\n",
       "      <td>-1.522004</td>\n",
       "      <td>-0.805809</td>\n",
       "      <td>0.420260</td>\n",
       "      <td>1.757297</td>\n",
       "      <td>1.313091</td>\n",
       "    </tr>\n",
       "    <tr>\n",
       "      <th>276</th>\n",
       "      <td>0.082590</td>\n",
       "      <td>-0.971524</td>\n",
       "      <td>0.333885</td>\n",
       "      <td>-1.036777</td>\n",
       "      <td>-1.007246</td>\n",
       "      <td>1.012716</td>\n",
       "      <td>-1.001807</td>\n",
       "      <td>0.980338</td>\n",
       "      <td>1.003617</td>\n",
       "      <td>0.996396</td>\n",
       "      <td>...</td>\n",
       "      <td>0.891357</td>\n",
       "      <td>1.639551</td>\n",
       "      <td>1.277285</td>\n",
       "      <td>-0.773547</td>\n",
       "      <td>-0.514013</td>\n",
       "      <td>-0.026294</td>\n",
       "      <td>-0.352043</td>\n",
       "      <td>1.229839</td>\n",
       "      <td>0.534676</td>\n",
       "      <td>-0.427523</td>\n",
       "    </tr>\n",
       "  </tbody>\n",
       "</table>\n",
       "<p>277 rows × 28 columns</p>\n",
       "</div>"
      ],
      "text/plain": [
       "         Age     Gender       BMI     Fever  Nausea/Vomting  Headache   \\\n",
       "0    1.684015 -0.971524 -0.639654 -1.036777        0.992806   1.012716   \n",
       "1   -0.832510 -0.971524 -1.126423 -1.036777       -1.007246   1.012716   \n",
       "2   -0.031797  1.029310  0.090500  0.964528       -1.007246  -0.987443   \n",
       "3    0.196978 -0.971524  0.820655  0.964528        0.992806   1.012716   \n",
       "4    1.112078 -0.971524  0.577270 -1.036777       -1.007246  -0.987443   \n",
       "..        ...       ...       ...       ...             ...        ...   \n",
       "272  0.768915  1.029310  0.577270  0.964528       -1.007246  -0.987443   \n",
       "273 -1.061285 -0.971524  0.577270 -1.036777        0.992806  -0.987443   \n",
       "274  0.425753  1.029310  0.577270 -1.036777        0.992806  -0.987443   \n",
       "275 -0.260572  1.029310  0.820655  0.964528        0.992806  -0.987443   \n",
       "276  0.082590 -0.971524  0.333885 -1.036777       -1.007246   1.012716   \n",
       "\n",
       "     Diarrhea   Fatigue & generalized bone ache   Jaundice   Epigastric pain   \\\n",
       "0    -1.001807                          0.980338   1.003617         -1.003617   \n",
       "1     0.998197                         -1.020057   1.003617         -1.003617   \n",
       "2    -1.001807                         -1.020057   1.003617          0.996396   \n",
       "3    -1.001807                          0.980338  -0.996396         -1.003617   \n",
       "4     0.998197                         -1.020057  -0.996396          0.996396   \n",
       "..         ...                               ...        ...               ...   \n",
       "272   0.998197                         -1.020057   1.003617          0.996396   \n",
       "273   0.998197                          0.980338  -0.996396          0.996396   \n",
       "274   0.998197                         -1.020057   1.003617          0.996396   \n",
       "275   0.998197                          0.980338  -0.996396         -1.003617   \n",
       "276  -1.001807                          0.980338   1.003617          0.996396   \n",
       "\n",
       "     ...    ALT 24    ALT 36    ALT 48  ALT after 24 w  RNA Base     RNA 4  \\\n",
       "0    ...  0.472032  0.104950  0.666102        0.820904 -0.049597 -1.650019   \n",
       "1    ... -1.700830 -1.276191  0.513306       -1.208397 -0.659669 -0.821624   \n",
       "2    ...  0.319551 -1.352921  0.360511        0.531004  0.024634 -0.489730   \n",
       "3    ... -1.090904  0.373505 -1.358440       -1.643248 -1.504712 -0.534764   \n",
       "4    ... -0.252255 -0.969271  0.207715        0.965855  0.731384  1.539697   \n",
       "..   ...       ...       ...       ...             ...       ...       ...   \n",
       "272  ...  1.425042  0.833885 -0.136075       -0.048796  1.474394  0.018108   \n",
       "273  ... -1.510228  0.833885  0.589704        0.820904 -0.463566  1.425486   \n",
       "274  ... -0.290376  0.603695  0.666102       -0.048796 -1.221066  0.159548   \n",
       "275  ...  0.128949 -1.544746 -1.511236        1.545655 -0.523786 -1.522004   \n",
       "276  ...  0.891357  1.639551  1.277285       -0.773547 -0.514013 -0.026294   \n",
       "\n",
       "       RNA 12   RNA EOT    RNA EF  Baseline histological Grading  \n",
       "0    0.953614 -0.187431  1.246328                       0.318454  \n",
       "1   -1.009073 -1.088911 -1.098925                       1.064432  \n",
       "2   -1.009073 -1.088911 -1.098925                       1.064432  \n",
       "3   -1.009073 -1.088911 -1.098925                      -0.427523  \n",
       "4    0.227650  1.538977  0.073047                      -1.422160  \n",
       "..        ...       ...       ...                            ...  \n",
       "272 -0.110320 -0.963027 -0.442670                      -1.670819  \n",
       "273  0.379718  1.205534 -0.409321                      -1.173501  \n",
       "274 -1.009073 -1.088911 -1.098925                      -0.676182  \n",
       "275 -0.805809  0.420260  1.757297                       1.313091  \n",
       "276 -0.352043  1.229839  0.534676                      -0.427523  \n",
       "\n",
       "[277 rows x 28 columns]"
      ]
     },
     "execution_count": 14,
     "metadata": {},
     "output_type": "execute_result"
    }
   ],
   "source": [
    "from sklearn.preprocessing import StandardScaler\n",
    "scaler = StandardScaler()\n",
    "\n",
    "# Scaling for training data\n",
    "scaled_X_train = pd.DataFrame(scaler.fit_transform(X_train),columns=X_train.columns)\n",
    "scaled_X_train\n",
    "\n",
    "# Scaling for test data\n",
    "scaled_X_test = pd.DataFrame(scaler.transform(X_test),columns=X_test.columns)\n",
    "scaled_X_test"
   ]
  },
  {
   "cell_type": "markdown",
   "metadata": {},
   "source": [
    "### Now using logistic regression"
   ]
  },
  {
   "cell_type": "code",
   "execution_count": 15,
   "metadata": {},
   "outputs": [
    {
     "data": {
      "text/plain": [
       "LogisticRegression()"
      ]
     },
     "execution_count": 15,
     "metadata": {},
     "output_type": "execute_result"
    }
   ],
   "source": [
    "# importing the model class\n",
    "from sklearn.linear_model import LogisticRegression\n",
    "# creating a object for that model\n",
    "lm = LogisticRegression()\n",
    "# fitting the input and output of training data to the object and building the model.\n",
    "lm.fit(scaled_X_train,y_train)"
   ]
  },
  {
   "cell_type": "code",
   "execution_count": 16,
   "metadata": {},
   "outputs": [
    {
     "data": {
      "text/plain": [
       "array([3, 4, 4, ..., 2, 2, 3])"
      ]
     },
     "execution_count": 16,
     "metadata": {},
     "output_type": "execute_result"
    }
   ],
   "source": [
    "# predicting the output of the training data\n",
    "y_train_pred = lm.predict(scaled_X_train)\n",
    "y_train_pred"
   ]
  },
  {
   "cell_type": "code",
   "execution_count": 17,
   "metadata": {},
   "outputs": [
    {
     "name": "stdout",
     "output_type": "stream",
     "text": [
      "Training data accuracy: 0.33574007220216606\n"
     ]
    }
   ],
   "source": [
    "from sklearn.metrics import accuracy_score\n",
    "print(\"Training data accuracy:\",accuracy_score(y_train,y_train_pred))\n",
    "log_train = accuracy_score(y_train,y_train_pred)"
   ]
  },
  {
   "cell_type": "code",
   "execution_count": 18,
   "metadata": {},
   "outputs": [
    {
     "name": "stdout",
     "output_type": "stream",
     "text": [
      "Testing data accuracy: 0.2490974729241877\n"
     ]
    }
   ],
   "source": [
    "y_test_pred = lm.predict(scaled_X_test)\n",
    "print(\"Testing data accuracy:\",accuracy_score(y_test,y_test_pred))\n",
    "log_test = accuracy_score(y_test,y_test_pred)"
   ]
  },
  {
   "cell_type": "markdown",
   "metadata": {},
   "source": [
    "### Now trying KNN"
   ]
  },
  {
   "cell_type": "code",
   "execution_count": 19,
   "metadata": {},
   "outputs": [
    {
     "name": "stdout",
     "output_type": "stream",
     "text": [
      "Train accuracy: 0.5406137184115524\n",
      "Test accuracy 0.2490974729241877\n"
     ]
    }
   ],
   "source": [
    "from sklearn.neighbors import KNeighborsClassifier \n",
    "clf = KNeighborsClassifier(n_neighbors = 3) \n",
    "clf.fit(X_train, y_train) \n",
    "training_score = clf.score(X_train, y_train)\n",
    "print(\"Train accuracy:\",training_score)\n",
    "test_score = clf.score(X_test, y_test) \n",
    "print(\"Test accuracy\",test_score)"
   ]
  },
  {
   "cell_type": "markdown",
   "metadata": {},
   "source": [
    "## Now trying using random forest."
   ]
  },
  {
   "cell_type": "code",
   "execution_count": 20,
   "metadata": {},
   "outputs": [
    {
     "data": {
      "text/plain": [
       "RandomForestClassifier()"
      ]
     },
     "execution_count": 20,
     "metadata": {},
     "output_type": "execute_result"
    }
   ],
   "source": [
    "# importing the model class\n",
    "from sklearn.ensemble import RandomForestClassifier\n",
    "# creating a object for that model\n",
    "rfc = RandomForestClassifier(n_estimators = 100)\n",
    "# fitting the input and output of training data to the object and building the model.\n",
    "rfc.fit(X_train,y_train)"
   ]
  },
  {
   "cell_type": "code",
   "execution_count": 21,
   "metadata": {},
   "outputs": [
    {
     "name": "stdout",
     "output_type": "stream",
     "text": [
      "              precision    recall  f1-score   support\n",
      "\n",
      "           1       1.00      1.00      1.00       278\n",
      "           2       1.00      1.00      1.00       260\n",
      "           3       1.00      1.00      1.00       291\n",
      "           4       1.00      1.00      1.00       279\n",
      "\n",
      "    accuracy                           1.00      1108\n",
      "   macro avg       1.00      1.00      1.00      1108\n",
      "weighted avg       1.00      1.00      1.00      1108\n",
      "\n"
     ]
    }
   ],
   "source": [
    "from sklearn.metrics import classification_report\n",
    "y_pred_train = rfc.predict(X_train)\n",
    "print(classification_report(y_train,y_pred_train))"
   ]
  },
  {
   "cell_type": "code",
   "execution_count": 22,
   "metadata": {},
   "outputs": [
    {
     "name": "stdout",
     "output_type": "stream",
     "text": [
      "              precision    recall  f1-score   support\n",
      "\n",
      "           1       0.18      0.19      0.18        58\n",
      "           2       0.35      0.29      0.32        72\n",
      "           3       0.25      0.39      0.30        64\n",
      "           4       0.40      0.27      0.32        83\n",
      "\n",
      "    accuracy                           0.29       277\n",
      "   macro avg       0.29      0.28      0.28       277\n",
      "weighted avg       0.31      0.29      0.29       277\n",
      "\n"
     ]
    }
   ],
   "source": [
    "y_pred_test = rfc.predict(X_test)\n",
    "print(classification_report(y_test,y_pred_test))"
   ]
  },
  {
   "cell_type": "markdown",
   "metadata": {},
   "source": [
    "## the model is overfitted."
   ]
  },
  {
   "cell_type": "markdown",
   "metadata": {},
   "source": [
    "### Now Using the dataset we obtained after using the SMOTE(Synthetic Minority Oversampling Technique)."
   ]
  },
  {
   "cell_type": "code",
   "execution_count": 23,
   "metadata": {},
   "outputs": [
    {
     "data": {
      "text/html": [
       "<div>\n",
       "<style scoped>\n",
       "    .dataframe tbody tr th:only-of-type {\n",
       "        vertical-align: middle;\n",
       "    }\n",
       "\n",
       "    .dataframe tbody tr th {\n",
       "        vertical-align: top;\n",
       "    }\n",
       "\n",
       "    .dataframe thead th {\n",
       "        text-align: right;\n",
       "    }\n",
       "</style>\n",
       "<table border=\"1\" class=\"dataframe\">\n",
       "  <thead>\n",
       "    <tr style=\"text-align: right;\">\n",
       "      <th></th>\n",
       "      <th>'Age '</th>\n",
       "      <th>Gender</th>\n",
       "      <th>BMI</th>\n",
       "      <th>Fever</th>\n",
       "      <th>Nausea/Vomting</th>\n",
       "      <th>'Headache '</th>\n",
       "      <th>'Diarrhea '</th>\n",
       "      <th>'Fatigue &amp; generalized bone ache '</th>\n",
       "      <th>'Jaundice '</th>\n",
       "      <th>'Epigastric pain '</th>\n",
       "      <th>...</th>\n",
       "      <th>'ALT 36'</th>\n",
       "      <th>'ALT 48'</th>\n",
       "      <th>'ALT after 24 w'</th>\n",
       "      <th>'RNA Base'</th>\n",
       "      <th>'RNA 4'</th>\n",
       "      <th>'RNA 12'</th>\n",
       "      <th>'RNA EOT'</th>\n",
       "      <th>'RNA EF'</th>\n",
       "      <th>'Baseline histological Grading'</th>\n",
       "      <th>'Baselinehistological staging'</th>\n",
       "    </tr>\n",
       "  </thead>\n",
       "  <tbody>\n",
       "    <tr>\n",
       "      <th>0</th>\n",
       "      <td>56.000000</td>\n",
       "      <td>1.00000</td>\n",
       "      <td>35.000000</td>\n",
       "      <td>2.000000</td>\n",
       "      <td>1.000000</td>\n",
       "      <td>1.000000</td>\n",
       "      <td>1.000000</td>\n",
       "      <td>2.000000</td>\n",
       "      <td>2.000000</td>\n",
       "      <td>2.00000</td>\n",
       "      <td>...</td>\n",
       "      <td>5.000000</td>\n",
       "      <td>5.000000</td>\n",
       "      <td>5.000000</td>\n",
       "      <td>6.553300e+05</td>\n",
       "      <td>6.345360e+05</td>\n",
       "      <td>2.881940e+05</td>\n",
       "      <td>5.000000</td>\n",
       "      <td>5.000000</td>\n",
       "      <td>13.000000</td>\n",
       "      <td>2</td>\n",
       "    </tr>\n",
       "    <tr>\n",
       "      <th>1</th>\n",
       "      <td>46.000000</td>\n",
       "      <td>1.00000</td>\n",
       "      <td>29.000000</td>\n",
       "      <td>1.000000</td>\n",
       "      <td>2.000000</td>\n",
       "      <td>2.000000</td>\n",
       "      <td>1.000000</td>\n",
       "      <td>2.000000</td>\n",
       "      <td>2.000000</td>\n",
       "      <td>1.00000</td>\n",
       "      <td>...</td>\n",
       "      <td>57.000000</td>\n",
       "      <td>123.000000</td>\n",
       "      <td>44.000000</td>\n",
       "      <td>4.062000e+04</td>\n",
       "      <td>5.386350e+05</td>\n",
       "      <td>6.370560e+05</td>\n",
       "      <td>336804.000000</td>\n",
       "      <td>31085.000000</td>\n",
       "      <td>4.000000</td>\n",
       "      <td>2</td>\n",
       "    </tr>\n",
       "    <tr>\n",
       "      <th>2</th>\n",
       "      <td>57.000000</td>\n",
       "      <td>1.00000</td>\n",
       "      <td>33.000000</td>\n",
       "      <td>2.000000</td>\n",
       "      <td>2.000000</td>\n",
       "      <td>2.000000</td>\n",
       "      <td>2.000000</td>\n",
       "      <td>1.000000</td>\n",
       "      <td>1.000000</td>\n",
       "      <td>1.00000</td>\n",
       "      <td>...</td>\n",
       "      <td>5.000000</td>\n",
       "      <td>5.000000</td>\n",
       "      <td>5.000000</td>\n",
       "      <td>5.711480e+05</td>\n",
       "      <td>6.613460e+05</td>\n",
       "      <td>5.000000e+00</td>\n",
       "      <td>735945.000000</td>\n",
       "      <td>558829.000000</td>\n",
       "      <td>4.000000</td>\n",
       "      <td>4</td>\n",
       "    </tr>\n",
       "    <tr>\n",
       "      <th>3</th>\n",
       "      <td>49.000000</td>\n",
       "      <td>2.00000</td>\n",
       "      <td>33.000000</td>\n",
       "      <td>1.000000</td>\n",
       "      <td>2.000000</td>\n",
       "      <td>1.000000</td>\n",
       "      <td>2.000000</td>\n",
       "      <td>1.000000</td>\n",
       "      <td>2.000000</td>\n",
       "      <td>1.00000</td>\n",
       "      <td>...</td>\n",
       "      <td>48.000000</td>\n",
       "      <td>77.000000</td>\n",
       "      <td>33.000000</td>\n",
       "      <td>1.041941e+06</td>\n",
       "      <td>4.499390e+05</td>\n",
       "      <td>5.856880e+05</td>\n",
       "      <td>744463.000000</td>\n",
       "      <td>582301.000000</td>\n",
       "      <td>10.000000</td>\n",
       "      <td>3</td>\n",
       "    </tr>\n",
       "    <tr>\n",
       "      <th>4</th>\n",
       "      <td>59.000000</td>\n",
       "      <td>1.00000</td>\n",
       "      <td>32.000000</td>\n",
       "      <td>1.000000</td>\n",
       "      <td>1.000000</td>\n",
       "      <td>2.000000</td>\n",
       "      <td>1.000000</td>\n",
       "      <td>2.000000</td>\n",
       "      <td>2.000000</td>\n",
       "      <td>2.00000</td>\n",
       "      <td>...</td>\n",
       "      <td>94.000000</td>\n",
       "      <td>90.000000</td>\n",
       "      <td>30.000000</td>\n",
       "      <td>6.604100e+05</td>\n",
       "      <td>7.387560e+05</td>\n",
       "      <td>3.731527e+06</td>\n",
       "      <td>338946.000000</td>\n",
       "      <td>242861.000000</td>\n",
       "      <td>11.000000</td>\n",
       "      <td>1</td>\n",
       "    </tr>\n",
       "    <tr>\n",
       "      <th>...</th>\n",
       "      <td>...</td>\n",
       "      <td>...</td>\n",
       "      <td>...</td>\n",
       "      <td>...</td>\n",
       "      <td>...</td>\n",
       "      <td>...</td>\n",
       "      <td>...</td>\n",
       "      <td>...</td>\n",
       "      <td>...</td>\n",
       "      <td>...</td>\n",
       "      <td>...</td>\n",
       "      <td>...</td>\n",
       "      <td>...</td>\n",
       "      <td>...</td>\n",
       "      <td>...</td>\n",
       "      <td>...</td>\n",
       "      <td>...</td>\n",
       "      <td>...</td>\n",
       "      <td>...</td>\n",
       "      <td>...</td>\n",
       "      <td>...</td>\n",
       "    </tr>\n",
       "    <tr>\n",
       "      <th>5535</th>\n",
       "      <td>43.682088</td>\n",
       "      <td>1.10710</td>\n",
       "      <td>32.792892</td>\n",
       "      <td>1.046178</td>\n",
       "      <td>1.919793</td>\n",
       "      <td>2.000000</td>\n",
       "      <td>1.000000</td>\n",
       "      <td>1.292628</td>\n",
       "      <td>1.719992</td>\n",
       "      <td>2.00000</td>\n",
       "      <td>...</td>\n",
       "      <td>93.519677</td>\n",
       "      <td>79.638174</td>\n",
       "      <td>34.547071</td>\n",
       "      <td>6.168930e+05</td>\n",
       "      <td>3.954819e+05</td>\n",
       "      <td>5.000000e+00</td>\n",
       "      <td>5.000000</td>\n",
       "      <td>5.000000</td>\n",
       "      <td>8.488608</td>\n",
       "      <td>4</td>\n",
       "    </tr>\n",
       "    <tr>\n",
       "      <th>5536</th>\n",
       "      <td>58.435659</td>\n",
       "      <td>1.00000</td>\n",
       "      <td>25.004465</td>\n",
       "      <td>1.879679</td>\n",
       "      <td>1.000000</td>\n",
       "      <td>1.983931</td>\n",
       "      <td>1.117073</td>\n",
       "      <td>1.995468</td>\n",
       "      <td>1.003565</td>\n",
       "      <td>1.82532</td>\n",
       "      <td>...</td>\n",
       "      <td>114.160825</td>\n",
       "      <td>44.376088</td>\n",
       "      <td>33.690699</td>\n",
       "      <td>4.644593e+05</td>\n",
       "      <td>1.103008e+06</td>\n",
       "      <td>5.000000e+00</td>\n",
       "      <td>5.000000</td>\n",
       "      <td>5.000000</td>\n",
       "      <td>6.519608</td>\n",
       "      <td>4</td>\n",
       "    </tr>\n",
       "    <tr>\n",
       "      <th>5537</th>\n",
       "      <td>33.765848</td>\n",
       "      <td>1.00000</td>\n",
       "      <td>34.682253</td>\n",
       "      <td>1.000000</td>\n",
       "      <td>1.000000</td>\n",
       "      <td>1.000000</td>\n",
       "      <td>1.005507</td>\n",
       "      <td>2.000000</td>\n",
       "      <td>2.000000</td>\n",
       "      <td>1.00000</td>\n",
       "      <td>...</td>\n",
       "      <td>75.904111</td>\n",
       "      <td>74.017806</td>\n",
       "      <td>25.697254</td>\n",
       "      <td>9.086593e+05</td>\n",
       "      <td>9.348452e+05</td>\n",
       "      <td>6.765571e+05</td>\n",
       "      <td>556061.026652</td>\n",
       "      <td>16649.789363</td>\n",
       "      <td>7.496653</td>\n",
       "      <td>4</td>\n",
       "    </tr>\n",
       "    <tr>\n",
       "      <th>5538</th>\n",
       "      <td>51.324557</td>\n",
       "      <td>1.32058</td>\n",
       "      <td>30.940226</td>\n",
       "      <td>1.674488</td>\n",
       "      <td>2.000000</td>\n",
       "      <td>1.355418</td>\n",
       "      <td>1.325384</td>\n",
       "      <td>2.000000</td>\n",
       "      <td>2.000000</td>\n",
       "      <td>1.00000</td>\n",
       "      <td>...</td>\n",
       "      <td>85.632901</td>\n",
       "      <td>81.886596</td>\n",
       "      <td>35.982354</td>\n",
       "      <td>8.285861e+05</td>\n",
       "      <td>4.612924e+05</td>\n",
       "      <td>4.215477e+05</td>\n",
       "      <td>619875.687058</td>\n",
       "      <td>24548.655340</td>\n",
       "      <td>11.322538</td>\n",
       "      <td>4</td>\n",
       "    </tr>\n",
       "    <tr>\n",
       "      <th>5539</th>\n",
       "      <td>44.082485</td>\n",
       "      <td>1.04856</td>\n",
       "      <td>28.325604</td>\n",
       "      <td>1.241140</td>\n",
       "      <td>1.739955</td>\n",
       "      <td>1.989944</td>\n",
       "      <td>1.982974</td>\n",
       "      <td>1.518988</td>\n",
       "      <td>1.000347</td>\n",
       "      <td>1.00000</td>\n",
       "      <td>...</td>\n",
       "      <td>64.253523</td>\n",
       "      <td>54.494431</td>\n",
       "      <td>38.907219</td>\n",
       "      <td>3.859061e+05</td>\n",
       "      <td>1.063843e+05</td>\n",
       "      <td>5.000000e+00</td>\n",
       "      <td>5.000000</td>\n",
       "      <td>5.000000</td>\n",
       "      <td>14.976485</td>\n",
       "      <td>4</td>\n",
       "    </tr>\n",
       "  </tbody>\n",
       "</table>\n",
       "<p>5540 rows × 29 columns</p>\n",
       "</div>"
      ],
      "text/plain": [
       "         'Age '   Gender        BMI     Fever  Nausea/Vomting  'Headache '  \\\n",
       "0     56.000000  1.00000  35.000000  2.000000        1.000000     1.000000   \n",
       "1     46.000000  1.00000  29.000000  1.000000        2.000000     2.000000   \n",
       "2     57.000000  1.00000  33.000000  2.000000        2.000000     2.000000   \n",
       "3     49.000000  2.00000  33.000000  1.000000        2.000000     1.000000   \n",
       "4     59.000000  1.00000  32.000000  1.000000        1.000000     2.000000   \n",
       "...         ...      ...        ...       ...             ...          ...   \n",
       "5535  43.682088  1.10710  32.792892  1.046178        1.919793     2.000000   \n",
       "5536  58.435659  1.00000  25.004465  1.879679        1.000000     1.983931   \n",
       "5537  33.765848  1.00000  34.682253  1.000000        1.000000     1.000000   \n",
       "5538  51.324557  1.32058  30.940226  1.674488        2.000000     1.355418   \n",
       "5539  44.082485  1.04856  28.325604  1.241140        1.739955     1.989944   \n",
       "\n",
       "      'Diarrhea '  'Fatigue & generalized bone ache '  'Jaundice '  \\\n",
       "0        1.000000                            2.000000     2.000000   \n",
       "1        1.000000                            2.000000     2.000000   \n",
       "2        2.000000                            1.000000     1.000000   \n",
       "3        2.000000                            1.000000     2.000000   \n",
       "4        1.000000                            2.000000     2.000000   \n",
       "...           ...                                 ...          ...   \n",
       "5535     1.000000                            1.292628     1.719992   \n",
       "5536     1.117073                            1.995468     1.003565   \n",
       "5537     1.005507                            2.000000     2.000000   \n",
       "5538     1.325384                            2.000000     2.000000   \n",
       "5539     1.982974                            1.518988     1.000347   \n",
       "\n",
       "      'Epigastric pain '  ...    'ALT 36'    'ALT 48'  'ALT after 24 w'  \\\n",
       "0                2.00000  ...    5.000000    5.000000          5.000000   \n",
       "1                1.00000  ...   57.000000  123.000000         44.000000   \n",
       "2                1.00000  ...    5.000000    5.000000          5.000000   \n",
       "3                1.00000  ...   48.000000   77.000000         33.000000   \n",
       "4                2.00000  ...   94.000000   90.000000         30.000000   \n",
       "...                  ...  ...         ...         ...               ...   \n",
       "5535             2.00000  ...   93.519677   79.638174         34.547071   \n",
       "5536             1.82532  ...  114.160825   44.376088         33.690699   \n",
       "5537             1.00000  ...   75.904111   74.017806         25.697254   \n",
       "5538             1.00000  ...   85.632901   81.886596         35.982354   \n",
       "5539             1.00000  ...   64.253523   54.494431         38.907219   \n",
       "\n",
       "        'RNA Base'       'RNA 4'      'RNA 12'      'RNA EOT'       'RNA EF'  \\\n",
       "0     6.553300e+05  6.345360e+05  2.881940e+05       5.000000       5.000000   \n",
       "1     4.062000e+04  5.386350e+05  6.370560e+05  336804.000000   31085.000000   \n",
       "2     5.711480e+05  6.613460e+05  5.000000e+00  735945.000000  558829.000000   \n",
       "3     1.041941e+06  4.499390e+05  5.856880e+05  744463.000000  582301.000000   \n",
       "4     6.604100e+05  7.387560e+05  3.731527e+06  338946.000000  242861.000000   \n",
       "...            ...           ...           ...            ...            ...   \n",
       "5535  6.168930e+05  3.954819e+05  5.000000e+00       5.000000       5.000000   \n",
       "5536  4.644593e+05  1.103008e+06  5.000000e+00       5.000000       5.000000   \n",
       "5537  9.086593e+05  9.348452e+05  6.765571e+05  556061.026652   16649.789363   \n",
       "5538  8.285861e+05  4.612924e+05  4.215477e+05  619875.687058   24548.655340   \n",
       "5539  3.859061e+05  1.063843e+05  5.000000e+00       5.000000       5.000000   \n",
       "\n",
       "      'Baseline histological Grading'  'Baselinehistological staging'  \n",
       "0                           13.000000                               2  \n",
       "1                            4.000000                               2  \n",
       "2                            4.000000                               4  \n",
       "3                           10.000000                               3  \n",
       "4                           11.000000                               1  \n",
       "...                               ...                             ...  \n",
       "5535                         8.488608                               4  \n",
       "5536                         6.519608                               4  \n",
       "5537                         7.496653                               4  \n",
       "5538                        11.322538                               4  \n",
       "5539                        14.976485                               4  \n",
       "\n",
       "[5540 rows x 29 columns]"
      ]
     },
     "execution_count": 23,
     "metadata": {},
     "output_type": "execute_result"
    }
   ],
   "source": [
    "df1 = pd.read_csv(\"ds.csv\")\n",
    "df1"
   ]
  },
  {
   "cell_type": "code",
   "execution_count": 24,
   "metadata": {},
   "outputs": [
    {
     "data": {
      "text/plain": [
       "(5540, 29)"
      ]
     },
     "execution_count": 24,
     "metadata": {},
     "output_type": "execute_result"
    }
   ],
   "source": [
    "df1.shape"
   ]
  },
  {
   "cell_type": "markdown",
   "metadata": {},
   "source": [
    "## After applying SMOTE, we obtain a dataset with 5540 instances."
   ]
  },
  {
   "cell_type": "code",
   "execution_count": 25,
   "metadata": {},
   "outputs": [
    {
     "data": {
      "image/png": "[encoded data removed]",
      "text/plain": [
       "<Figure size 1800x720 with 2 Axes>"
      ]
     },
     "metadata": {
      "needs_background": "light"
     },
     "output_type": "display_data"
    }
   ],
   "source": [
    "import missingno as msno\n",
    "msno.matrix(df1)\n",
    "plt.show()"
   ]
  },
  {
   "cell_type": "code",
   "execution_count": 26,
   "metadata": {},
   "outputs": [
    {
     "data": {
      "text/plain": [
       "0"
      ]
     },
     "execution_count": 26,
     "metadata": {},
     "output_type": "execute_result"
    }
   ],
   "source": [
    "df1.duplicated().sum()"
   ]
  },
  {
   "cell_type": "code",
   "execution_count": null,
   "metadata": {},
   "outputs": [],
   "source": []
  },
  {
   "cell_type": "code",
   "execution_count": 27,
   "metadata": {},
   "outputs": [
    {
     "data": {
      "text/plain": [
       "Index([''Age '', 'Gender', 'BMI', 'Fever', 'Nausea/Vomting', ''Headache '',\n",
       "       ''Diarrhea '', ''Fatigue & generalized bone ache '', ''Jaundice '',\n",
       "       ''Epigastric pain '', 'WBC', 'RBC', 'HGB', 'Plat', ''AST 1'', ''ALT 1'',\n",
       "       'ALT4', ''ALT 12'', ''ALT 24'', ''ALT 36'', ''ALT 48'',\n",
       "       ''ALT after 24 w'', ''RNA Base'', ''RNA 4'', ''RNA 12'', ''RNA EOT'',\n",
       "       ''RNA EF'', ''Baseline histological Grading'',\n",
       "       ''Baselinehistological staging''],\n",
       "      dtype='object')"
      ]
     },
     "execution_count": 27,
     "metadata": {},
     "output_type": "execute_result"
    }
   ],
   "source": [
    "df1.columns"
   ]
  },
  {
   "cell_type": "code",
   "execution_count": 28,
   "metadata": {},
   "outputs": [
    {
     "data": {
      "image/png": "[encoded data removed]",
      "text/plain": [
       "<Figure size 432x288 with 1 Axes>"
      ]
     },
     "metadata": {
      "needs_background": "light"
     },
     "output_type": "display_data"
    }
   ],
   "source": [
    "sns.countplot(\"'Baselinehistological staging'\",data=df1)\n",
    "plt.show()"
   ]
  },
  {
   "cell_type": "code",
   "execution_count": null,
   "metadata": {},
   "outputs": [],
   "source": []
  },
  {
   "cell_type": "markdown",
   "metadata": {},
   "source": [
    "### So we got the number of instances for classes f1,f2,f3,f4 as 1344, 1328, 1420, 1448 respectively."
   ]
  },
  {
   "cell_type": "code",
   "execution_count": 29,
   "metadata": {},
   "outputs": [],
   "source": [
    "X = df1.iloc[:,0:28]"
   ]
  },
  {
   "cell_type": "code",
   "execution_count": 30,
   "metadata": {},
   "outputs": [],
   "source": [
    "y = df1.iloc[:,28]"
   ]
  },
  {
   "cell_type": "code",
   "execution_count": 31,
   "metadata": {},
   "outputs": [],
   "source": [
    "from sklearn.model_selection import train_test_split\n",
    "X_train,X_test,y_train,y_test = train_test_split(X,y,test_size=0.20,random_state=18)"
   ]
  },
  {
   "cell_type": "code",
   "execution_count": 32,
   "metadata": {},
   "outputs": [
    {
     "name": "stdout",
     "output_type": "stream",
     "text": [
      "(4432, 28)\n",
      "(1108, 28)\n",
      "(4432,)\n",
      "(1108,)\n"
     ]
    }
   ],
   "source": [
    "print(X_train.shape)\n",
    "print(X_test.shape)\n",
    "print(y_train.shape)\n",
    "print(y_test.shape)"
   ]
  },
  {
   "cell_type": "markdown",
   "metadata": {},
   "source": [
    "### After spliting into test and train, we have 4432 records in train and 1108 records in test"
   ]
  },
  {
   "cell_type": "code",
   "execution_count": 33,
   "metadata": {},
   "outputs": [
    {
     "data": {
      "text/html": [
       "<div>\n",
       "<style scoped>\n",
       "    .dataframe tbody tr th:only-of-type {\n",
       "        vertical-align: middle;\n",
       "    }\n",
       "\n",
       "    .dataframe tbody tr th {\n",
       "        vertical-align: top;\n",
       "    }\n",
       "\n",
       "    .dataframe thead th {\n",
       "        text-align: right;\n",
       "    }\n",
       "</style>\n",
       "<table border=\"1\" class=\"dataframe\">\n",
       "  <thead>\n",
       "    <tr style=\"text-align: right;\">\n",
       "      <th></th>\n",
       "      <th>'Age '</th>\n",
       "      <th>Gender</th>\n",
       "      <th>BMI</th>\n",
       "      <th>Fever</th>\n",
       "      <th>Nausea/Vomting</th>\n",
       "      <th>'Headache '</th>\n",
       "      <th>'Diarrhea '</th>\n",
       "      <th>'Fatigue &amp; generalized bone ache '</th>\n",
       "      <th>'Jaundice '</th>\n",
       "      <th>'Epigastric pain '</th>\n",
       "      <th>...</th>\n",
       "      <th>'ALT 24'</th>\n",
       "      <th>'ALT 36'</th>\n",
       "      <th>'ALT 48'</th>\n",
       "      <th>'ALT after 24 w'</th>\n",
       "      <th>'RNA Base'</th>\n",
       "      <th>'RNA 4'</th>\n",
       "      <th>'RNA 12'</th>\n",
       "      <th>'RNA EOT'</th>\n",
       "      <th>'RNA EF'</th>\n",
       "      <th>'Baseline histological Grading'</th>\n",
       "    </tr>\n",
       "  </thead>\n",
       "  <tbody>\n",
       "    <tr>\n",
       "      <th>0</th>\n",
       "      <td>0.732525</td>\n",
       "      <td>-1.154798</td>\n",
       "      <td>1.554747</td>\n",
       "      <td>-1.208518</td>\n",
       "      <td>1.196423</td>\n",
       "      <td>1.191679</td>\n",
       "      <td>1.148875</td>\n",
       "      <td>1.186039</td>\n",
       "      <td>-1.194323</td>\n",
       "      <td>-1.164504</td>\n",
       "      <td>...</td>\n",
       "      <td>1.692496</td>\n",
       "      <td>1.884911</td>\n",
       "      <td>0.684623</td>\n",
       "      <td>-0.702614</td>\n",
       "      <td>0.621769</td>\n",
       "      <td>-0.040837</td>\n",
       "      <td>1.387291</td>\n",
       "      <td>-0.074431</td>\n",
       "      <td>0.493112</td>\n",
       "      <td>0.081368</td>\n",
       "    </tr>\n",
       "    <tr>\n",
       "      <th>1</th>\n",
       "      <td>1.249227</td>\n",
       "      <td>-0.993781</td>\n",
       "      <td>-0.136084</td>\n",
       "      <td>-1.129484</td>\n",
       "      <td>-0.091654</td>\n",
       "      <td>-1.171551</td>\n",
       "      <td>-0.961402</td>\n",
       "      <td>-0.961394</td>\n",
       "      <td>-1.101483</td>\n",
       "      <td>-0.708700</td>\n",
       "      <td>...</td>\n",
       "      <td>-0.927838</td>\n",
       "      <td>-0.401364</td>\n",
       "      <td>1.584063</td>\n",
       "      <td>1.592320</td>\n",
       "      <td>1.325078</td>\n",
       "      <td>0.343212</td>\n",
       "      <td>0.911898</td>\n",
       "      <td>-0.664381</td>\n",
       "      <td>-0.574296</td>\n",
       "      <td>0.265789</td>\n",
       "    </tr>\n",
       "    <tr>\n",
       "      <th>2</th>\n",
       "      <td>-1.376599</td>\n",
       "      <td>-0.514744</td>\n",
       "      <td>-1.378001</td>\n",
       "      <td>-0.782508</td>\n",
       "      <td>-0.248210</td>\n",
       "      <td>-0.273848</td>\n",
       "      <td>1.052932</td>\n",
       "      <td>-0.594475</td>\n",
       "      <td>0.726913</td>\n",
       "      <td>0.306525</td>\n",
       "      <td>...</td>\n",
       "      <td>1.100933</td>\n",
       "      <td>1.008651</td>\n",
       "      <td>0.263554</td>\n",
       "      <td>1.577698</td>\n",
       "      <td>0.271573</td>\n",
       "      <td>1.334380</td>\n",
       "      <td>0.494242</td>\n",
       "      <td>1.393898</td>\n",
       "      <td>1.457317</td>\n",
       "      <td>-1.349914</td>\n",
       "    </tr>\n",
       "    <tr>\n",
       "      <th>3</th>\n",
       "      <td>1.080785</td>\n",
       "      <td>-0.056688</td>\n",
       "      <td>-0.144978</td>\n",
       "      <td>0.105785</td>\n",
       "      <td>0.212123</td>\n",
       "      <td>-0.144610</td>\n",
       "      <td>0.778696</td>\n",
       "      <td>-0.588049</td>\n",
       "      <td>0.616862</td>\n",
       "      <td>-0.535347</td>\n",
       "      <td>...</td>\n",
       "      <td>-0.289770</td>\n",
       "      <td>1.129841</td>\n",
       "      <td>-0.102373</td>\n",
       "      <td>-0.791215</td>\n",
       "      <td>-0.428140</td>\n",
       "      <td>0.804860</td>\n",
       "      <td>0.781582</td>\n",
       "      <td>1.156151</td>\n",
       "      <td>1.158147</td>\n",
       "      <td>-0.342374</td>\n",
       "    </tr>\n",
       "    <tr>\n",
       "      <th>4</th>\n",
       "      <td>-1.137179</td>\n",
       "      <td>0.058633</td>\n",
       "      <td>0.573703</td>\n",
       "      <td>-1.208518</td>\n",
       "      <td>-1.140267</td>\n",
       "      <td>-0.850540</td>\n",
       "      <td>-1.185169</td>\n",
       "      <td>-0.557186</td>\n",
       "      <td>-1.132887</td>\n",
       "      <td>-0.601441</td>\n",
       "      <td>...</td>\n",
       "      <td>0.904395</td>\n",
       "      <td>0.840896</td>\n",
       "      <td>-1.797818</td>\n",
       "      <td>-1.580156</td>\n",
       "      <td>0.950834</td>\n",
       "      <td>0.577405</td>\n",
       "      <td>0.793320</td>\n",
       "      <td>1.223641</td>\n",
       "      <td>0.247680</td>\n",
       "      <td>-0.817291</td>\n",
       "    </tr>\n",
       "    <tr>\n",
       "      <th>...</th>\n",
       "      <td>...</td>\n",
       "      <td>...</td>\n",
       "      <td>...</td>\n",
       "      <td>...</td>\n",
       "      <td>...</td>\n",
       "      <td>...</td>\n",
       "      <td>...</td>\n",
       "      <td>...</td>\n",
       "      <td>...</td>\n",
       "      <td>...</td>\n",
       "      <td>...</td>\n",
       "      <td>...</td>\n",
       "      <td>...</td>\n",
       "      <td>...</td>\n",
       "      <td>...</td>\n",
       "      <td>...</td>\n",
       "      <td>...</td>\n",
       "      <td>...</td>\n",
       "      <td>...</td>\n",
       "      <td>...</td>\n",
       "      <td>...</td>\n",
       "    </tr>\n",
       "    <tr>\n",
       "      <th>1103</th>\n",
       "      <td>-0.587454</td>\n",
       "      <td>1.192259</td>\n",
       "      <td>-0.635973</td>\n",
       "      <td>1.144372</td>\n",
       "      <td>-1.140267</td>\n",
       "      <td>-1.171551</td>\n",
       "      <td>0.082808</td>\n",
       "      <td>1.186039</td>\n",
       "      <td>-0.360655</td>\n",
       "      <td>1.178321</td>\n",
       "      <td>...</td>\n",
       "      <td>-0.175914</td>\n",
       "      <td>0.281905</td>\n",
       "      <td>0.822901</td>\n",
       "      <td>0.896801</td>\n",
       "      <td>-0.449746</td>\n",
       "      <td>-0.794110</td>\n",
       "      <td>0.963827</td>\n",
       "      <td>-0.213539</td>\n",
       "      <td>1.646686</td>\n",
       "      <td>1.426327</td>\n",
       "    </tr>\n",
       "    <tr>\n",
       "      <th>1104</th>\n",
       "      <td>0.006776</td>\n",
       "      <td>-1.154798</td>\n",
       "      <td>0.414074</td>\n",
       "      <td>1.049428</td>\n",
       "      <td>1.016173</td>\n",
       "      <td>-0.476774</td>\n",
       "      <td>-1.174808</td>\n",
       "      <td>1.186039</td>\n",
       "      <td>1.169781</td>\n",
       "      <td>1.178321</td>\n",
       "      <td>...</td>\n",
       "      <td>1.060411</td>\n",
       "      <td>1.907022</td>\n",
       "      <td>0.763627</td>\n",
       "      <td>-0.318049</td>\n",
       "      <td>-0.802798</td>\n",
       "      <td>1.181531</td>\n",
       "      <td>1.264601</td>\n",
       "      <td>1.215109</td>\n",
       "      <td>1.196158</td>\n",
       "      <td>-0.484774</td>\n",
       "    </tr>\n",
       "    <tr>\n",
       "      <th>1105</th>\n",
       "      <td>-1.671380</td>\n",
       "      <td>-1.154798</td>\n",
       "      <td>-1.041930</td>\n",
       "      <td>-1.208518</td>\n",
       "      <td>-1.140267</td>\n",
       "      <td>1.191679</td>\n",
       "      <td>-1.185169</td>\n",
       "      <td>-1.138292</td>\n",
       "      <td>1.169781</td>\n",
       "      <td>-1.164504</td>\n",
       "      <td>...</td>\n",
       "      <td>1.378936</td>\n",
       "      <td>-1.769246</td>\n",
       "      <td>0.054132</td>\n",
       "      <td>0.441568</td>\n",
       "      <td>-1.463715</td>\n",
       "      <td>1.678668</td>\n",
       "      <td>1.423545</td>\n",
       "      <td>1.956165</td>\n",
       "      <td>-0.938342</td>\n",
       "      <td>0.081368</td>\n",
       "    </tr>\n",
       "    <tr>\n",
       "      <th>1106</th>\n",
       "      <td>-0.217255</td>\n",
       "      <td>-1.154798</td>\n",
       "      <td>0.498885</td>\n",
       "      <td>1.144372</td>\n",
       "      <td>-1.140267</td>\n",
       "      <td>-1.171551</td>\n",
       "      <td>1.148875</td>\n",
       "      <td>-1.138292</td>\n",
       "      <td>-0.243060</td>\n",
       "      <td>1.178321</td>\n",
       "      <td>...</td>\n",
       "      <td>1.168163</td>\n",
       "      <td>-0.494658</td>\n",
       "      <td>-0.180390</td>\n",
       "      <td>-1.373256</td>\n",
       "      <td>-0.081419</td>\n",
       "      <td>0.726146</td>\n",
       "      <td>-1.060257</td>\n",
       "      <td>-1.107944</td>\n",
       "      <td>-1.103034</td>\n",
       "      <td>0.110558</td>\n",
       "    </tr>\n",
       "    <tr>\n",
       "      <th>1107</th>\n",
       "      <td>0.800171</td>\n",
       "      <td>1.192259</td>\n",
       "      <td>-0.002676</td>\n",
       "      <td>1.144372</td>\n",
       "      <td>1.114494</td>\n",
       "      <td>1.191679</td>\n",
       "      <td>-1.185169</td>\n",
       "      <td>1.186039</td>\n",
       "      <td>-1.194323</td>\n",
       "      <td>0.107770</td>\n",
       "      <td>...</td>\n",
       "      <td>-0.895182</td>\n",
       "      <td>0.850362</td>\n",
       "      <td>-1.065386</td>\n",
       "      <td>-1.529024</td>\n",
       "      <td>0.946852</td>\n",
       "      <td>-1.105396</td>\n",
       "      <td>-1.060257</td>\n",
       "      <td>-1.107944</td>\n",
       "      <td>-1.103034</td>\n",
       "      <td>1.021974</td>\n",
       "    </tr>\n",
       "  </tbody>\n",
       "</table>\n",
       "<p>1108 rows × 28 columns</p>\n",
       "</div>"
      ],
      "text/plain": [
       "        'Age '    Gender       BMI     Fever  Nausea/Vomting  'Headache '  \\\n",
       "0     0.732525 -1.154798  1.554747 -1.208518        1.196423     1.191679   \n",
       "1     1.249227 -0.993781 -0.136084 -1.129484       -0.091654    -1.171551   \n",
       "2    -1.376599 -0.514744 -1.378001 -0.782508       -0.248210    -0.273848   \n",
       "3     1.080785 -0.056688 -0.144978  0.105785        0.212123    -0.144610   \n",
       "4    -1.137179  0.058633  0.573703 -1.208518       -1.140267    -0.850540   \n",
       "...        ...       ...       ...       ...             ...          ...   \n",
       "1103 -0.587454  1.192259 -0.635973  1.144372       -1.140267    -1.171551   \n",
       "1104  0.006776 -1.154798  0.414074  1.049428        1.016173    -0.476774   \n",
       "1105 -1.671380 -1.154798 -1.041930 -1.208518       -1.140267     1.191679   \n",
       "1106 -0.217255 -1.154798  0.498885  1.144372       -1.140267    -1.171551   \n",
       "1107  0.800171  1.192259 -0.002676  1.144372        1.114494     1.191679   \n",
       "\n",
       "      'Diarrhea '  'Fatigue & generalized bone ache '  'Jaundice '  \\\n",
       "0        1.148875                            1.186039    -1.194323   \n",
       "1       -0.961402                           -0.961394    -1.101483   \n",
       "2        1.052932                           -0.594475     0.726913   \n",
       "3        0.778696                           -0.588049     0.616862   \n",
       "4       -1.185169                           -0.557186    -1.132887   \n",
       "...           ...                                 ...          ...   \n",
       "1103     0.082808                            1.186039    -0.360655   \n",
       "1104    -1.174808                            1.186039     1.169781   \n",
       "1105    -1.185169                           -1.138292     1.169781   \n",
       "1106     1.148875                           -1.138292    -0.243060   \n",
       "1107    -1.185169                            1.186039    -1.194323   \n",
       "\n",
       "      'Epigastric pain '  ...  'ALT 24'  'ALT 36'  'ALT 48'  'ALT after 24 w'  \\\n",
       "0              -1.164504  ...  1.692496  1.884911  0.684623         -0.702614   \n",
       "1              -0.708700  ... -0.927838 -0.401364  1.584063          1.592320   \n",
       "2               0.306525  ...  1.100933  1.008651  0.263554          1.577698   \n",
       "3              -0.535347  ... -0.289770  1.129841 -0.102373         -0.791215   \n",
       "4              -0.601441  ...  0.904395  0.840896 -1.797818         -1.580156   \n",
       "...                  ...  ...       ...       ...       ...               ...   \n",
       "1103            1.178321  ... -0.175914  0.281905  0.822901          0.896801   \n",
       "1104            1.178321  ...  1.060411  1.907022  0.763627         -0.318049   \n",
       "1105           -1.164504  ...  1.378936 -1.769246  0.054132          0.441568   \n",
       "1106            1.178321  ...  1.168163 -0.494658 -0.180390         -1.373256   \n",
       "1107            0.107770  ... -0.895182  0.850362 -1.065386         -1.529024   \n",
       "\n",
       "      'RNA Base'   'RNA 4'  'RNA 12'  'RNA EOT'  'RNA EF'  \\\n",
       "0       0.621769 -0.040837  1.387291  -0.074431  0.493112   \n",
       "1       1.325078  0.343212  0.911898  -0.664381 -0.574296   \n",
       "2       0.271573  1.334380  0.494242   1.393898  1.457317   \n",
       "3      -0.428140  0.804860  0.781582   1.156151  1.158147   \n",
       "4       0.950834  0.577405  0.793320   1.223641  0.247680   \n",
       "...          ...       ...       ...        ...       ...   \n",
       "1103   -0.449746 -0.794110  0.963827  -0.213539  1.646686   \n",
       "1104   -0.802798  1.181531  1.264601   1.215109  1.196158   \n",
       "1105   -1.463715  1.678668  1.423545   1.956165 -0.938342   \n",
       "1106   -0.081419  0.726146 -1.060257  -1.107944 -1.103034   \n",
       "1107    0.946852 -1.105396 -1.060257  -1.107944 -1.103034   \n",
       "\n",
       "      'Baseline histological Grading'  \n",
       "0                            0.081368  \n",
       "1                            0.265789  \n",
       "2                           -1.349914  \n",
       "3                           -0.342374  \n",
       "4                           -0.817291  \n",
       "...                               ...  \n",
       "1103                         1.426327  \n",
       "1104                        -0.484774  \n",
       "1105                         0.081368  \n",
       "1106                         0.110558  \n",
       "1107                         1.021974  \n",
       "\n",
       "[1108 rows x 28 columns]"
      ]
     },
     "execution_count": 33,
     "metadata": {},
     "output_type": "execute_result"
    }
   ],
   "source": [
    "from sklearn.preprocessing import StandardScaler\n",
    "scaler = StandardScaler()\n",
    "\n",
    "# Scaling for training data\n",
    "scaled_X_train = pd.DataFrame(scaler.fit_transform(X_train),columns=X_train.columns)\n",
    "scaled_X_train\n",
    "\n",
    "# Scaling for test data\n",
    "scaled_X_test = pd.DataFrame(scaler.transform(X_test),columns=X_test.columns)\n",
    "scaled_X_test"
   ]
  },
  {
   "cell_type": "markdown",
   "metadata": {},
   "source": [
    "## KNN"
   ]
  },
  {
   "cell_type": "code",
   "execution_count": 34,
   "metadata": {},
   "outputs": [
    {
     "name": "stdout",
     "output_type": "stream",
     "text": [
      "training accuracy: 0.9842057761732852\n",
      "test accuracy: 0.9395306859205776\n"
     ]
    }
   ],
   "source": [
    "from sklearn.neighbors import KNeighborsClassifier \n",
    "knn = KNeighborsClassifier(n_neighbors = 3) \n",
    "knn.fit(scaled_X_train, y_train) \n",
    "training_score = knn.score(scaled_X_train, y_train)\n",
    "print(\"training accuracy:\",training_score)\n",
    "test_score = knn.score(scaled_X_test, y_test) \n",
    "print(\"test accuracy:\",test_score)"
   ]
  },
  {
   "cell_type": "code",
   "execution_count": 35,
   "metadata": {},
   "outputs": [
    {
     "name": "stdout",
     "output_type": "stream",
     "text": [
      "              precision    recall  f1-score   support\n",
      "\n",
      "           1       0.92      0.97      0.94       260\n",
      "           2       0.95      0.94      0.94       265\n",
      "           3       0.95      0.91      0.93       286\n",
      "           4       0.94      0.94      0.94       297\n",
      "\n",
      "    accuracy                           0.94      1108\n",
      "   macro avg       0.94      0.94      0.94      1108\n",
      "weighted avg       0.94      0.94      0.94      1108\n",
      "\n"
     ]
    }
   ],
   "source": [
    "# Classification report \n",
    "from sklearn.metrics import classification_report\n",
    "y_pred_test = knn.predict(scaled_X_test)\n",
    "print(classification_report(y_test,y_pred_test))"
   ]
  },
  {
   "cell_type": "code",
   "execution_count": 36,
   "metadata": {},
   "outputs": [
    {
     "name": "stdout",
     "output_type": "stream",
     "text": [
      "Best leaf_size: 1\n",
      "Best p: 1\n",
      "0.9693140794223827\n"
     ]
    }
   ],
   "source": [
    "from sklearn.model_selection import GridSearchCV\n",
    "leaf_size = list(range(1,50))\n",
    "p=[1,2]\n",
    "hyperparameters = dict(leaf_size=leaf_size, p=p)\n",
    "clf = GridSearchCV(knn, hyperparameters, cv=10)\n",
    "best_model = clf.fit(scaled_X_train,y_train)\n",
    "print('Best leaf_size:', best_model.best_estimator_.get_params()['leaf_size'])\n",
    "print('Best p:', best_model.best_estimator_.get_params()['p'])\n",
    "#Predict testing set\n",
    "y_pred = best_model.predict(scaled_X_test)\n",
    "#Check performance using accuracy\n",
    "print(accuracy_score(y_test, y_pred))"
   ]
  },
  {
   "cell_type": "markdown",
   "metadata": {},
   "source": [
    "## The accuracy improved to 96.9%"
   ]
  },
  {
   "cell_type": "code",
   "execution_count": 37,
   "metadata": {},
   "outputs": [
    {
     "name": "stdout",
     "output_type": "stream",
     "text": [
      "              precision    recall  f1-score   support\n",
      "\n",
      "           1       0.95      0.98      0.97       260\n",
      "           2       0.97      0.96      0.97       265\n",
      "           3       0.99      0.96      0.97       286\n",
      "           4       0.97      0.98      0.97       297\n",
      "\n",
      "    accuracy                           0.97      1108\n",
      "   macro avg       0.97      0.97      0.97      1108\n",
      "weighted avg       0.97      0.97      0.97      1108\n",
      "\n"
     ]
    }
   ],
   "source": [
    "# Classification report \n",
    "from sklearn.metrics import classification_report\n",
    "y_pred_test = best_model.predict(scaled_X_test)\n",
    "print(classification_report(y_test,y_pred_test))"
   ]
  },
  {
   "cell_type": "code",
   "execution_count": 38,
   "metadata": {},
   "outputs": [
    {
     "data": {
      "text/plain": [
       "array([[255,   1,   0,   4],\n",
       "       [  4, 254,   4,   3],\n",
       "       [  5,   4, 274,   3],\n",
       "       [  4,   2,   0, 291]])"
      ]
     },
     "execution_count": 38,
     "metadata": {},
     "output_type": "execute_result"
    }
   ],
   "source": [
    "#confusion matrix for train data\n",
    "from sklearn.metrics import confusion_matrix\n",
    "confusion_matrix(y_test, y_pred_test)"
   ]
  },
  {
   "cell_type": "markdown",
   "metadata": {},
   "source": [
    "## Random forest classifier"
   ]
  },
  {
   "cell_type": "code",
   "execution_count": 39,
   "metadata": {},
   "outputs": [
    {
     "data": {
      "text/plain": [
       "RandomForestClassifier()"
      ]
     },
     "execution_count": 39,
     "metadata": {},
     "output_type": "execute_result"
    }
   ],
   "source": [
    "# importing the model class\n",
    "from sklearn.ensemble import RandomForestClassifier\n",
    "# creating a object for that model\n",
    "rfc = RandomForestClassifier(n_estimators = 100)\n",
    "# fitting the input and output of training data to the object and building the model.\n",
    "rfc.fit(scaled_X_train,y_train)"
   ]
  },
  {
   "cell_type": "code",
   "execution_count": 40,
   "metadata": {},
   "outputs": [
    {
     "name": "stdout",
     "output_type": "stream",
     "text": [
      "              precision    recall  f1-score   support\n",
      "\n",
      "           1       1.00      1.00      1.00      1084\n",
      "           2       1.00      1.00      1.00      1063\n",
      "           3       1.00      1.00      1.00      1134\n",
      "           4       1.00      1.00      1.00      1151\n",
      "\n",
      "    accuracy                           1.00      4432\n",
      "   macro avg       1.00      1.00      1.00      4432\n",
      "weighted avg       1.00      1.00      1.00      4432\n",
      "\n"
     ]
    }
   ],
   "source": [
    "from sklearn.metrics import classification_report\n",
    "y_pred_train = rfc.predict(scaled_X_train)\n",
    "print(classification_report(y_train,y_pred_train))"
   ]
  },
  {
   "cell_type": "code",
   "execution_count": 41,
   "metadata": {},
   "outputs": [
    {
     "name": "stdout",
     "output_type": "stream",
     "text": [
      "              precision    recall  f1-score   support\n",
      "\n",
      "           1       0.88      0.92      0.90       260\n",
      "           2       0.95      0.86      0.91       265\n",
      "           3       0.89      0.90      0.90       286\n",
      "           4       0.90      0.92      0.91       297\n",
      "\n",
      "    accuracy                           0.90      1108\n",
      "   macro avg       0.90      0.90      0.90      1108\n",
      "weighted avg       0.90      0.90      0.90      1108\n",
      "\n"
     ]
    }
   ],
   "source": [
    "y_pred_test = rfc.predict(scaled_X_test)\n",
    "print(classification_report(y_test,y_pred_test))"
   ]
  },
  {
   "cell_type": "code",
   "execution_count": 42,
   "metadata": {},
   "outputs": [
    {
     "data": {
      "text/plain": [
       "array([[239,   3,  10,   8],\n",
       "       [  9, 229,  14,  13],\n",
       "       [ 15,   4, 258,   9],\n",
       "       [ 10,   5,   8, 274]])"
      ]
     },
     "execution_count": 42,
     "metadata": {},
     "output_type": "execute_result"
    }
   ],
   "source": [
    "#confusion matrix for test data\n",
    "from sklearn.metrics import confusion_matrix\n",
    "confusion_matrix(y_test, y_pred_test)"
   ]
  },
  {
   "cell_type": "markdown",
   "metadata": {},
   "source": [
    "## Logistic regression"
   ]
  },
  {
   "cell_type": "code",
   "execution_count": 43,
   "metadata": {},
   "outputs": [
    {
     "data": {
      "text/plain": [
       "LogisticRegression()"
      ]
     },
     "execution_count": 43,
     "metadata": {},
     "output_type": "execute_result"
    }
   ],
   "source": [
    "# importing the model class\n",
    "from sklearn.linear_model import LogisticRegression\n",
    "# creating a object for that model\n",
    "lm = LogisticRegression()\n",
    "# fitting the input and output of training data to the object and building the model.\n",
    "lm.fit(scaled_X_train,y_train)"
   ]
  },
  {
   "cell_type": "code",
   "execution_count": 44,
   "metadata": {},
   "outputs": [
    {
     "data": {
      "text/plain": [
       "array([4, 3, 1, ..., 2, 4, 1])"
      ]
     },
     "execution_count": 44,
     "metadata": {},
     "output_type": "execute_result"
    }
   ],
   "source": [
    "# predicting the output of the training data\n",
    "y_train_pred = lm.predict(scaled_X_train)\n",
    "y_train_pred"
   ]
  },
  {
   "cell_type": "code",
   "execution_count": 45,
   "metadata": {},
   "outputs": [
    {
     "name": "stdout",
     "output_type": "stream",
     "text": [
      "Training data accuracy: 0.3418321299638989\n"
     ]
    }
   ],
   "source": [
    "from sklearn.metrics import accuracy_score\n",
    "print(\"Training data accuracy:\",accuracy_score(y_train,y_train_pred))\n",
    "log_train = accuracy_score(y_train,y_train_pred)"
   ]
  },
  {
   "cell_type": "code",
   "execution_count": 46,
   "metadata": {},
   "outputs": [
    {
     "name": "stdout",
     "output_type": "stream",
     "text": [
      "Testing data accuracy: 0.33393501805054154\n"
     ]
    }
   ],
   "source": [
    "y_test_pred = lm.predict(scaled_X_test)\n",
    "print(\"Testing data accuracy:\",accuracy_score(y_test,y_test_pred))\n",
    "log_test = accuracy_score(y_test,y_test_pred)"
   ]
  },
  {
   "cell_type": "code",
   "execution_count": 47,
   "metadata": {},
   "outputs": [],
   "source": [
    "knn_train = 98.4\n",
    "knn_test = 96.9\n",
    "ran_train = 100\n",
    "ran_test = 90\n",
    "log_train = 34.1\n",
    "log_test = 33.3"
   ]
  },
  {
   "cell_type": "markdown",
   "metadata": {},
   "source": [
    "## Comparing the three models"
   ]
  },
  {
   "cell_type": "code",
   "execution_count": 48,
   "metadata": {},
   "outputs": [],
   "source": [
    "acc = {'knn_train':knn_train,'knn_test':knn_test,'RandomForest_train':ran_train,'RandomForest_test':ran_test,'log_train':log_train,'log_test':log_test}\n",
    "x = acc.keys()\n",
    "y = acc.values()"
   ]
  },
  {
   "cell_type": "code",
   "execution_count": 49,
   "metadata": {},
   "outputs": [
    {
     "data": {
      "text/plain": [
       "<BarContainer object of 6 artists>"
      ]
     },
     "execution_count": 49,
     "metadata": {},
     "output_type": "execute_result"
    },
    {
     "data": {
      "image/png": "[encoded data removed]",
      "text/plain": [
       "<Figure size 864x576 with 1 Axes>"
      ]
     },
     "metadata": {
      "needs_background": "light"
     },
     "output_type": "display_data"
    }
   ],
   "source": [
    "plt.figure(figsize=(12,8))\n",
    "plt.xlabel(\"Classifier\")\n",
    "plt.ylabel(\"Accuracy\")\n",
    "plt.title(\"Accuracy Comparition\")\n",
    "plt.bar(list(x),list(y))"
   ]
  },
  {
   "cell_type": "markdown",
   "metadata": {},
   "source": [
    "## Knn performed better with an accuracy of 96.9 %"
   ]
  },
  {
   "cell_type": "markdown",
   "metadata": {},
   "source": [
    "## Now comparing before and after smote results"
   ]
  },
  {
   "cell_type": "code",
   "execution_count": 50,
   "metadata": {},
   "outputs": [],
   "source": [
    "knn1_train = 61\n",
    "knn1_test = 21\n",
    "ran1_train = 100\n",
    "ran1_test = 26"
   ]
  },
  {
   "cell_type": "code",
   "execution_count": 51,
   "metadata": {},
   "outputs": [],
   "source": [
    "acc = {'knn_train before':knn1_train,'knn_train after ':knn_train,'knn_test before':knn1_train,'knn_test after ':knn_test,'RandomForest_train before':ran1_train,'RandomForest_train after':ran_train,'RandomForest_test before':ran1_test,'RandomForest_test after':ran_test}\n",
    "x = acc.keys()\n",
    "y = acc.values()"
   ]
  },
  {
   "cell_type": "code",
   "execution_count": 52,
   "metadata": {},
   "outputs": [
    {
     "data": {
      "text/plain": [
       "<BarContainer object of 8 artists>"
      ]
     },
     "execution_count": 52,
     "metadata": {},
     "output_type": "execute_result"
    },
    {
     "data": {
      "image/png": "[encoded data removed]",
      "text/plain": [
       "<Figure size 1296x576 with 1 Axes>"
      ]
     },
     "metadata": {
      "needs_background": "light"
     },
     "output_type": "display_data"
    }
   ],
   "source": [
    "plt.figure(figsize=(18,8))\n",
    "plt.xlabel(\"Classifier\")\n",
    "plt.ylabel(\"Accuracy\")\n",
    "plt.title(\"Accuracy Comparition\")\n",
    "plt.bar(list(x),list(y))"
   ]
  },
  {
   "cell_type": "markdown",
   "metadata": {},
   "source": [
    "## So, we have successfully classified the stage of hcv infected patient with an accuracy of around 97% by using KNN classifier algorithm."
   ]
  },
  {
   "cell_type": "code",
   "execution_count": null,
   "metadata": {},
   "outputs": [],
   "source": []
  },
  {
   "cell_type": "code",
   "execution_count": null,
   "metadata": {},
   "outputs": [],
   "source": []
  }
 ],
 "metadata": {
  "kernelspec": {
   "display_name": "Python 3",
   "language": "python",
   "name": "python3"
  },
  "language_info": {
   "codemirror_mode": {
    "name": "ipython",
    "version": 3
   },
   "file_extension": ".py",
   "mimetype": "text/x-python",
   "name": "python",
   "nbconvert_exporter": "python",
   "pygments_lexer": "ipython3",
   "version": "3.7.6"
  }
 },
 "nbformat": 4,
 "nbformat_minor": 4
}
